{
 "cells": [
  {
   "cell_type": "markdown",
   "metadata": {},
   "source": [
    "# 问题情境"
   ]
  },
  {
   "cell_type": "markdown",
   "metadata": {},
   "source": [
    "我们在向别人推销数据挖掘时，通常我们都会说数据挖掘能“发现数据背后的规律”，并且经常是“意想不到的、新奇的”规律。通常会举啤酒和尿布的例子——啤酒与尿布的故事，或许是有史以来推销数据挖掘最好的广告之一!<br>\n",
    "<img src=figtabs/ch4/beer_diapers.png align=center width=30% height=30% />"
   ]
  },
  {
   "cell_type": "markdown",
   "metadata": {},
   "source": [
    "故事有多个版本，其中一个版本是：<br>\n",
    "沃尔玛在美国的一家分店发生过这样一件趣事:在一个夏季，管理者发现在那段时间里婴儿尿布和啤酒的销量次第拔高。这如果在一般的商店也许就会被忽略，但沃尔玛超市的管理者没有轻易放过。他们立即对这个现象进行了分析和讨论，并且派出了专门的队伍在卖场内进行全天候的观察。最后，谜底终于水落石出：原来，购买这两种产品的顾客一般都是年龄在25至35周岁的青年男子，由于孩子尚在哺乳期，所以每天下班后他们都会遵太太的命令到超市里为孩子购买婴儿纸尿裤，每当这个时候，他们大都会为自己顺带买回几瓶啤酒。<br>\n",
    "沃尔玛的管理者立即针对此现象采取了行动：将卖场内原来相隔很远的妇婴用品区与酒类饮料区的空间距离拉近，减少顾客的行走时间。"
   ]
  },
  {
   "cell_type": "markdown",
   "metadata": {},
   "source": [
    "尽管啤酒和尿布的故事是杜撰的，但是通过数据来挖掘事物之间的关联关系，却在很多场合都有应用，比如：<br>\n",
    "<img src=figtabs/ch4/jd_recommendation.png align=center width=50% height=50% />"
   ]
  },
  {
   "cell_type": "markdown",
   "metadata": {},
   "source": [
    "又比如：<br>\n",
    "<img src=figtabs/ch4/EI_village_recommendation.png align=center width=50% height=50% />"
   ]
  },
  {
   "cell_type": "markdown",
   "metadata": {},
   "source": [
    "关联分析旨在事务、关系数据库中的项集和对象中发现频繁模式、伴随过程、相依性、相关性乃至可能的因果结构。关联分析虽然通常被称之为购物篮分析，但其应用场景已经远远超出了“购物”的范畴：<br>\n",
    "* 购物篮分析（优化货架商品摆放、优化邮寄商品目录的内容、交叉销售和捆绑销售、……）\n",
    "* web分析\n",
    "* 生物信息学（DNA对新药敏感性分析）\n",
    "* 地球科学\n",
    "* ……<br>\n",
    "\n",
    "本实验将以电影推荐为例，简述关联规则的原理及其应用。"
   ]
  },
  {
   "cell_type": "markdown",
   "metadata": {},
   "source": [
    "# Apriori算法原理"
   ]
  },
  {
   "cell_type": "markdown",
   "metadata": {},
   "source": [
    "关联分析（Association Analysis）用于发现隐藏在大型数据集中有意义的联系，所发现的联系可以用频繁项集或关联规则的形式表示<br>\n",
    "* 频繁项集（frequent item sets）是经常出现在一块的物品的集合\n",
    "* 关联规则（association rules），形如$A \\Rightarrow B$的蕴含式，$A$发生的情况之下，$B$可能也伴随发生，暗示两种物品之间可能存在很强的关系。\n",
    "\n",
    "---\n",
    "\n",
    "以下是一些基本概念：<br>\n",
    "\n",
    "* 项item的集合称为项集itemset\n",
    "* 包含k个项的项集称为k-项集\n",
    "* 项集出现的频度是包含该项集的事务数，简称为项集的频度、支持度计数\n",
    "* 如果项集的支持度满足预定义的最小支持度阈值，称之为频繁项集frequent itemset  \n",
    "\n",
    "---\n",
    "\n",
    "关联规则是一个蕴涵式：𝐴⇒𝐵，其中𝐴和𝐵是不相交的项集  \n",
    "具体含义是：𝐴出现的时候，𝐵也出现；或者说，𝐵伴随着𝐴出现  \n",
    "关联规则在事务集𝑇中成立，所具有支持度和置信度：  \n",
    "* 一个项集的支持度（support）被定义为数据集中包含该项集的记录所占的比例：$support\\left( {A \\Rightarrow B} \\right) = P\\left( {A \\cup B} \\right)$\n",
    "* 置信度则是针对规则来定义的：$confidence\\left( {A \\Rightarrow B} \\right) = P\\left( {B|A} \\right) = \\frac{{P\\left( {A \\cup B} \\right)}}{{P\\left( A \\right)}} = \\frac{{support\\_count\\left( {A \\cup B} \\right)}}{{support\\_coun\\left( A \\right)}}$\n",
    "\n",
    "* **支持度**：减少偶然性  \n",
    "* **置信度**：增加推断能力  \n",
    "* 满足最小支持度和置信度的规则称为强规则\n",
    "\n",
    "---\n",
    "\n",
    "除了支持度和置信度之外，提升度也是常用的一个指标：  \n",
    "**提升度**：  \n",
    "$lift\\left( {A \\Rightarrow B} \\right) = \\frac{{P\\left( {A \\cup B} \\right)}}{{P\\left( A \\right)P\\left( A \\right)}}$\n",
    "\n",
    "* 如果提升度小于1，则A的出现和B的出现是负相关的，意味着一个出现可能导致另一个不出现\n",
    "* 如果提升度大于1，则A的出现和B的出现是正相关的，意味着一个出现蕴含另一个的出现\n",
    "* 换言之，它评估一个的出现“提升”另一个出现的程度"
   ]
  },
  {
   "cell_type": "markdown",
   "metadata": {},
   "source": [
    "Apriori算法的核心思想是利用先验规则：<br>\n",
    "* 频繁项集的所有非空子集也一定是频繁的\n",
    "* 非频繁项集的超集必定是非频繁的<br>\n",
    "<img src=figtabs/ch4/freq_itemset_prune.png align=center width=50% height=50%>"
   ]
  },
  {
   "cell_type": "markdown",
   "metadata": {},
   "source": [
    "算法过程可表述如下：<br>\n",
    "<img src=\"figtabs/ch4/apriori_part_a.png\" height=60% width=60% align=left />"
   ]
  },
  {
   "cell_type": "markdown",
   "metadata": {},
   "source": [
    "由频繁的$k-1$项集，生成频繁的$k$项集候选，有多种办法：<br>\n",
    "<img src=figtabs/ch4/ck_gen.png align=center width=40% height=40%>"
   ]
  },
  {
   "cell_type": "markdown",
   "metadata": {},
   "source": [
    "<img src=figtabs/ch4/apriori_part_b.png align=left width=60% height=60% />"
   ]
  },
  {
   "cell_type": "markdown",
   "metadata": {},
   "source": [
    "完成了频繁项集的挖掘，只是完成了关联规则挖掘两个步骤中的第一步：<br>\n",
    "* （1）找出所有频繁项集，满足最小支持度\n",
    "* （2）由频繁项集产生强关联规则，满足最小置信度\n",
    "\n",
    "---\n",
    "\n",
    "避免野蛮搜索：<br>\n",
    "* （1）基于支持度对候选集进行剪枝\n",
    "* （2）基于置信度对规则进行剪枝\n",
    "\n",
    "---\n",
    "\n",
    "如果$X \\Rightarrow (Y - X)$不满足置信度阈值，则对于${X^{sub}} \\subset X$的规则${X^{sub}} \\Rightarrow Y - {X^{sub}}$也一定不满足置信度阈值!<br>\n",
    "<img src=figtabs/ch4/rule_prune.png align=center width=50% height=50%>"
   ]
  },
  {
   "cell_type": "markdown",
   "metadata": {},
   "source": [
    "# 数据导入"
   ]
  },
  {
   "cell_type": "markdown",
   "metadata": {},
   "source": [
    "## 数据源"
   ]
  },
  {
   "cell_type": "markdown",
   "metadata": {
    "ExecuteTime": {
     "end_time": "2019-02-17T00:45:16.661888Z",
     "start_time": "2019-02-17T00:45:16.653892Z"
    }
   },
   "source": [
    "MovieLens 是历史最悠久的推荐系统。它由美国 Minnesota 大学计算机科学与工程学院的 GroupLens 项目组创办，是一个非商业性质的、以研究为目的的实验性站点。MovieLens 主要使用 Collaborative Filtering 和 Association Rules 相结合的技术，向用户推荐他们感兴趣的电影。"
   ]
  },
  {
   "cell_type": "markdown",
   "metadata": {
    "ExecuteTime": {
     "end_time": "2019-02-17T00:45:16.661888Z",
     "start_time": "2019-02-17T00:45:16.653892Z"
    }
   },
   "source": [
    "自打Netflix Prize奖项设立以来，美国明尼苏达大学的Grouplens研究团队公开了一系列用于测试推荐算法的数据集,包含多个用户对多部电影的评级数据，也包括电影元数据信息和用户属性信息。  这个数据集经常用来做推荐系统，机器学习算法的测试数据集。尤其在推荐系统领域，很多著名论文都是基于这个网站提供的数据集。   "
   ]
  },
  {
   "cell_type": "markdown",
   "metadata": {
    "ExecuteTime": {
     "end_time": "2019-02-17T00:45:16.661888Z",
     "start_time": "2019-02-17T00:45:16.653892Z"
    }
   },
   "source": [
    "MovieLens提供的电影评分数据集包含多个版本，如MovieLens 20M Dataset、MovieLens 100K Dataset、MovieLens 1M Dataset、MovieLens 10M Dataset、MovieLens Latest Datasets等多个版本，其中MovieLens Latest Datasets更新至2018年9月（Accessed on 2/17/2019）。  \n",
    "本实验将采用稳定的基准数据集MovieLens 10M Dataset，数据集下载地址为：<http://grouplens.org/datasets/movielens/>。\n",
    "\n",
    "<img src=figtabs/ch4/movielens_10m_url.png align=center width=50% height=50% />"
   ]
  },
  {
   "cell_type": "markdown",
   "metadata": {
    "ExecuteTime": {
     "end_time": "2019-02-17T00:45:16.661888Z",
     "start_time": "2019-02-17T00:45:16.653892Z"
    }
   },
   "source": [
    "当然，也可以直接进入[Permalink](http://grouplens.org/datasets/movielens/10m/)下载。  \n",
    "\n",
    "关于这份数据即的信息，可参看相应的[文档](http://files.grouplens.org/datasets/movielens/ml-100k-README.txt)\n",
    "> u.data     -- The full u data set, 100000 ratings by 943 users on 1682 items.  \n",
    ">              Each user has rated at least 20 movies.  Users and items are  \n",
    ">              numbered consecutively from 1.  The data is randomly  \n",
    ">              ordered. This is a tab separated list of   \n",
    ">\t         user id | item id | rating | timestamp.   \n",
    ">              The time stamps are unix seconds since 1/1/1970 UTC     \n",
    "> u.item     -- Information about the items (movies); this is a tab separated  \n",
    ">              list of  \n",
    ">              movie id | movie title | release date | video release date |  \n",
    ">              IMDb URL | unknown | Action | Adventure | Animation |  \n",
    ">              Children's | Comedy | Crime | Documentary | Drama | Fantasy |  \n",
    ">              Film-Noir | Horror | Musical | Mystery | Romance | Sci-Fi |  \n",
    ">              Thriller | War | Western |  \n",
    ">              The last 19 fields are the genres, a 1 indicates the movie  \n",
    ">              is of that genre, a 0 indicates it is not; movies can be in  \n",
    ">              several genres at once.  \n",
    ">              The movie ids are the ones used in the u.data data set.  "
   ]
  },
  {
   "cell_type": "markdown",
   "metadata": {},
   "source": [
    "## 准备工作"
   ]
  },
  {
   "cell_type": "markdown",
   "metadata": {},
   "source": [
    "导入相关模块："
   ]
  },
  {
   "cell_type": "code",
   "execution_count": 1,
   "metadata": {
    "ExecuteTime": {
     "end_time": "2019-04-15T02:36:03.588015Z",
     "start_time": "2019-04-15T02:36:02.063470Z"
    }
   },
   "outputs": [],
   "source": [
    "import os\n",
    "import sys\n",
    "import pandas as pd"
   ]
  },
  {
   "cell_type": "markdown",
   "metadata": {},
   "source": [
    "## 数据导入"
   ]
  },
  {
   "cell_type": "markdown",
   "metadata": {
    "ExecuteTime": {
     "end_time": "2019-02-17T00:45:16.661888Z",
     "start_time": "2019-02-17T00:45:16.653892Z"
    }
   },
   "source": [
    "下载完成后，解压缩至datasets文件夹，并通过以下代码进行解析。"
   ]
  },
  {
   "cell_type": "code",
   "execution_count": 2,
   "metadata": {
    "ExecuteTime": {
     "end_time": "2019-04-15T02:36:03.603683Z",
     "start_time": "2019-04-15T02:36:03.588015Z"
    }
   },
   "outputs": [
    {
     "data": {
      "text/plain": [
       "'datasets\\\\ml-100k\\\\u.data'"
      ]
     },
     "execution_count": 2,
     "metadata": {},
     "output_type": "execute_result"
    }
   ],
   "source": [
    "data_folder = os.path.join(\"datasets\", \"ml-100k\")\n",
    "ratings_filename = os.path.join(data_folder, \"u.data\")\n",
    "ratings_filename"
   ]
  },
  {
   "cell_type": "markdown",
   "metadata": {},
   "source": [
    "MovieLens数据集非常规整，但是有几点跟 pandas.read_csv 方法的默认设置有出入，所以要调整参数设置。第一个问题是数据集每行的几个数据之间用制表符而不是逗号分隔。其次，没有表头，这表示数据集的第一行就是数据部分，我们需要手动为各列添加名称。\n",
    "加载数据集时，把分隔符设置为制表符，告诉pandas不要把第一行作为表头（ header=None ），设置好各列的名称。代码如下："
   ]
  },
  {
   "cell_type": "code",
   "execution_count": 3,
   "metadata": {
    "ExecuteTime": {
     "end_time": "2019-04-15T02:36:03.871618Z",
     "start_time": "2019-04-15T02:36:03.603683Z"
    }
   },
   "outputs": [],
   "source": [
    "all_ratings = pd.read_csv(ratings_filename, \n",
    "                          delimiter=\"\\t\", \n",
    "                          header=None, \n",
    "                          names = [\"UserID\", \"MovieID\", \"Rating\", \"Datetime\"])"
   ]
  },
  {
   "cell_type": "code",
   "execution_count": 4,
   "metadata": {
    "ExecuteTime": {
     "end_time": "2019-04-15T02:36:04.599769Z",
     "start_time": "2019-04-15T02:36:03.871618Z"
    }
   },
   "outputs": [],
   "source": [
    "all_ratings.to_csv(os.path.join(data_folder, \"u.data.csv\"))"
   ]
  },
  {
   "cell_type": "markdown",
   "metadata": {},
   "source": [
    "查看一下所读入的数据："
   ]
  },
  {
   "cell_type": "code",
   "execution_count": 5,
   "metadata": {
    "ExecuteTime": {
     "end_time": "2019-04-15T02:36:04.630900Z",
     "start_time": "2019-04-15T02:36:04.599769Z"
    }
   },
   "outputs": [
    {
     "data": {
      "text/html": [
       "<div>\n",
       "<style scoped>\n",
       "    .dataframe tbody tr th:only-of-type {\n",
       "        vertical-align: middle;\n",
       "    }\n",
       "\n",
       "    .dataframe tbody tr th {\n",
       "        vertical-align: top;\n",
       "    }\n",
       "\n",
       "    .dataframe thead th {\n",
       "        text-align: right;\n",
       "    }\n",
       "</style>\n",
       "<table border=\"1\" class=\"dataframe\">\n",
       "  <thead>\n",
       "    <tr style=\"text-align: right;\">\n",
       "      <th></th>\n",
       "      <th>UserID</th>\n",
       "      <th>MovieID</th>\n",
       "      <th>Rating</th>\n",
       "      <th>Datetime</th>\n",
       "    </tr>\n",
       "  </thead>\n",
       "  <tbody>\n",
       "    <tr>\n",
       "      <th>0</th>\n",
       "      <td>196</td>\n",
       "      <td>242</td>\n",
       "      <td>3</td>\n",
       "      <td>881250949</td>\n",
       "    </tr>\n",
       "    <tr>\n",
       "      <th>1</th>\n",
       "      <td>186</td>\n",
       "      <td>302</td>\n",
       "      <td>3</td>\n",
       "      <td>891717742</td>\n",
       "    </tr>\n",
       "    <tr>\n",
       "      <th>2</th>\n",
       "      <td>22</td>\n",
       "      <td>377</td>\n",
       "      <td>1</td>\n",
       "      <td>878887116</td>\n",
       "    </tr>\n",
       "    <tr>\n",
       "      <th>3</th>\n",
       "      <td>244</td>\n",
       "      <td>51</td>\n",
       "      <td>2</td>\n",
       "      <td>880606923</td>\n",
       "    </tr>\n",
       "    <tr>\n",
       "      <th>4</th>\n",
       "      <td>166</td>\n",
       "      <td>346</td>\n",
       "      <td>1</td>\n",
       "      <td>886397596</td>\n",
       "    </tr>\n",
       "  </tbody>\n",
       "</table>\n",
       "</div>"
      ],
      "text/plain": [
       "   UserID  MovieID  Rating   Datetime\n",
       "0     196      242       3  881250949\n",
       "1     186      302       3  891717742\n",
       "2      22      377       1  878887116\n",
       "3     244       51       2  880606923\n",
       "4     166      346       1  886397596"
      ]
     },
     "execution_count": 5,
     "metadata": {},
     "output_type": "execute_result"
    }
   ],
   "source": [
    "all_ratings.head()"
   ]
  },
  {
   "cell_type": "markdown",
   "metadata": {},
   "source": [
    "显然，这里的日期有误，需要进行解析："
   ]
  },
  {
   "cell_type": "code",
   "execution_count": 6,
   "metadata": {
    "ExecuteTime": {
     "end_time": "2019-04-15T02:36:04.802764Z",
     "start_time": "2019-04-15T02:36:04.630900Z"
    }
   },
   "outputs": [
    {
     "data": {
      "text/html": [
       "<div>\n",
       "<style scoped>\n",
       "    .dataframe tbody tr th:only-of-type {\n",
       "        vertical-align: middle;\n",
       "    }\n",
       "\n",
       "    .dataframe tbody tr th {\n",
       "        vertical-align: top;\n",
       "    }\n",
       "\n",
       "    .dataframe thead th {\n",
       "        text-align: right;\n",
       "    }\n",
       "</style>\n",
       "<table border=\"1\" class=\"dataframe\">\n",
       "  <thead>\n",
       "    <tr style=\"text-align: right;\">\n",
       "      <th></th>\n",
       "      <th>UserID</th>\n",
       "      <th>MovieID</th>\n",
       "      <th>Rating</th>\n",
       "      <th>Datetime</th>\n",
       "    </tr>\n",
       "  </thead>\n",
       "  <tbody>\n",
       "    <tr>\n",
       "      <th>0</th>\n",
       "      <td>196</td>\n",
       "      <td>242</td>\n",
       "      <td>3</td>\n",
       "      <td>1997-12-04 15:55:49</td>\n",
       "    </tr>\n",
       "    <tr>\n",
       "      <th>1</th>\n",
       "      <td>186</td>\n",
       "      <td>302</td>\n",
       "      <td>3</td>\n",
       "      <td>1998-04-04 19:22:22</td>\n",
       "    </tr>\n",
       "    <tr>\n",
       "      <th>2</th>\n",
       "      <td>22</td>\n",
       "      <td>377</td>\n",
       "      <td>1</td>\n",
       "      <td>1997-11-07 07:18:36</td>\n",
       "    </tr>\n",
       "    <tr>\n",
       "      <th>3</th>\n",
       "      <td>244</td>\n",
       "      <td>51</td>\n",
       "      <td>2</td>\n",
       "      <td>1997-11-27 05:02:03</td>\n",
       "    </tr>\n",
       "    <tr>\n",
       "      <th>4</th>\n",
       "      <td>166</td>\n",
       "      <td>346</td>\n",
       "      <td>1</td>\n",
       "      <td>1998-02-02 05:33:16</td>\n",
       "    </tr>\n",
       "  </tbody>\n",
       "</table>\n",
       "</div>"
      ],
      "text/plain": [
       "   UserID  MovieID  Rating            Datetime\n",
       "0     196      242       3 1997-12-04 15:55:49\n",
       "1     186      302       3 1998-04-04 19:22:22\n",
       "2      22      377       1 1997-11-07 07:18:36\n",
       "3     244       51       2 1997-11-27 05:02:03\n",
       "4     166      346       1 1998-02-02 05:33:16"
      ]
     },
     "execution_count": 6,
     "metadata": {},
     "output_type": "execute_result"
    }
   ],
   "source": [
    "all_ratings[\"Datetime\"] = pd.to_datetime(all_ratings['Datetime'],unit='s')\n",
    "all_ratings.head()"
   ]
  },
  {
   "cell_type": "code",
   "execution_count": 7,
   "metadata": {
    "ExecuteTime": {
     "end_time": "2019-04-15T02:36:04.912131Z",
     "start_time": "2019-04-15T02:36:04.802764Z"
    }
   },
   "outputs": [
    {
     "data": {
      "text/plain": [
       "(100000, 4)"
      ]
     },
     "execution_count": 7,
     "metadata": {},
     "output_type": "execute_result"
    }
   ],
   "source": [
    "all_ratings.shape"
   ]
  },
  {
   "cell_type": "markdown",
   "metadata": {},
   "source": [
    "数据集是一个10万×4的一个DataFrame，有10万行评分记录，4列具体属性为：用户ID、电影ID、评分、日期。\n",
    "MovieLens网站对该数据集的描述如下：\n",
    "> This data set consists of:\n",
    ">\t* 100,000 ratings (1-5) from 943 users on 1682 movies. \n",
    ">\t* Each user has rated at least 20 movies. \n",
    ">  * Simple demographic info for the users (age, gender, occupation, zip)\n",
    "\n",
    ">The data was collected through the MovieLens web site\n",
    ">(movielens.umn.edu) during the seven-month period from September 19th, \n",
    ">1997 through April 22nd, 1998. "
   ]
  },
  {
   "cell_type": "code",
   "execution_count": 8,
   "metadata": {
    "ExecuteTime": {
     "end_time": "2019-04-15T02:36:05.068372Z",
     "start_time": "2019-04-15T02:36:04.912131Z"
    }
   },
   "outputs": [
    {
     "data": {
      "text/plain": [
       "943"
      ]
     },
     "execution_count": 8,
     "metadata": {},
     "output_type": "execute_result"
    }
   ],
   "source": [
    "len(all_ratings['UserID'].unique())"
   ]
  },
  {
   "cell_type": "code",
   "execution_count": 9,
   "metadata": {
    "ExecuteTime": {
     "end_time": "2019-04-15T02:36:05.189846Z",
     "start_time": "2019-04-15T02:36:05.068372Z"
    }
   },
   "outputs": [
    {
     "data": {
      "text/plain": [
       "1682"
      ]
     },
     "execution_count": 9,
     "metadata": {},
     "output_type": "execute_result"
    }
   ],
   "source": [
    "len(all_ratings['MovieID'].unique())"
   ]
  },
  {
   "cell_type": "markdown",
   "metadata": {},
   "source": [
    "以上结果与网站描述一致。"
   ]
  },
  {
   "cell_type": "code",
   "execution_count": 10,
   "metadata": {
    "ExecuteTime": {
     "end_time": "2019-04-15T02:36:05.330457Z",
     "start_time": "2019-04-15T02:36:05.189846Z"
    }
   },
   "outputs": [
    {
     "data": {
      "text/html": [
       "<div>\n",
       "<style scoped>\n",
       "    .dataframe tbody tr th:only-of-type {\n",
       "        vertical-align: middle;\n",
       "    }\n",
       "\n",
       "    .dataframe tbody tr th {\n",
       "        vertical-align: top;\n",
       "    }\n",
       "\n",
       "    .dataframe thead th {\n",
       "        text-align: right;\n",
       "    }\n",
       "</style>\n",
       "<table border=\"1\" class=\"dataframe\">\n",
       "  <thead>\n",
       "    <tr style=\"text-align: right;\">\n",
       "      <th></th>\n",
       "      <th>UserID</th>\n",
       "      <th>MovieID</th>\n",
       "      <th>Rating</th>\n",
       "      <th>Datetime</th>\n",
       "    </tr>\n",
       "  </thead>\n",
       "  <tbody>\n",
       "    <tr>\n",
       "      <th>81098</th>\n",
       "      <td>675</td>\n",
       "      <td>86</td>\n",
       "      <td>4</td>\n",
       "      <td>1998-03-10 00:26:14</td>\n",
       "    </tr>\n",
       "    <tr>\n",
       "      <th>90696</th>\n",
       "      <td>675</td>\n",
       "      <td>223</td>\n",
       "      <td>1</td>\n",
       "      <td>1998-03-10 00:35:51</td>\n",
       "    </tr>\n",
       "    <tr>\n",
       "      <th>92650</th>\n",
       "      <td>675</td>\n",
       "      <td>235</td>\n",
       "      <td>1</td>\n",
       "      <td>1998-03-10 00:35:51</td>\n",
       "    </tr>\n",
       "    <tr>\n",
       "      <th>95459</th>\n",
       "      <td>675</td>\n",
       "      <td>242</td>\n",
       "      <td>4</td>\n",
       "      <td>1998-03-10 00:08:42</td>\n",
       "    </tr>\n",
       "    <tr>\n",
       "      <th>82845</th>\n",
       "      <td>675</td>\n",
       "      <td>244</td>\n",
       "      <td>3</td>\n",
       "      <td>1998-03-10 00:29:35</td>\n",
       "    </tr>\n",
       "    <tr>\n",
       "      <th>53293</th>\n",
       "      <td>675</td>\n",
       "      <td>258</td>\n",
       "      <td>3</td>\n",
       "      <td>1998-03-10 00:11:19</td>\n",
       "    </tr>\n",
       "    <tr>\n",
       "      <th>97286</th>\n",
       "      <td>675</td>\n",
       "      <td>269</td>\n",
       "      <td>5</td>\n",
       "      <td>1998-03-10 00:08:07</td>\n",
       "    </tr>\n",
       "    <tr>\n",
       "      <th>93720</th>\n",
       "      <td>675</td>\n",
       "      <td>272</td>\n",
       "      <td>3</td>\n",
       "      <td>1998-03-10 00:07:11</td>\n",
       "    </tr>\n",
       "    <tr>\n",
       "      <th>73389</th>\n",
       "      <td>675</td>\n",
       "      <td>286</td>\n",
       "      <td>4</td>\n",
       "      <td>1998-03-10 00:07:11</td>\n",
       "    </tr>\n",
       "    <tr>\n",
       "      <th>77524</th>\n",
       "      <td>675</td>\n",
       "      <td>303</td>\n",
       "      <td>5</td>\n",
       "      <td>1998-03-10 00:08:42</td>\n",
       "    </tr>\n",
       "    <tr>\n",
       "      <th>47367</th>\n",
       "      <td>675</td>\n",
       "      <td>305</td>\n",
       "      <td>4</td>\n",
       "      <td>1998-03-10 00:09:08</td>\n",
       "    </tr>\n",
       "    <tr>\n",
       "      <th>44300</th>\n",
       "      <td>675</td>\n",
       "      <td>306</td>\n",
       "      <td>5</td>\n",
       "      <td>1998-03-10 00:08:07</td>\n",
       "    </tr>\n",
       "    <tr>\n",
       "      <th>53730</th>\n",
       "      <td>675</td>\n",
       "      <td>311</td>\n",
       "      <td>3</td>\n",
       "      <td>1998-03-10 00:10:47</td>\n",
       "    </tr>\n",
       "    <tr>\n",
       "      <th>54284</th>\n",
       "      <td>675</td>\n",
       "      <td>312</td>\n",
       "      <td>2</td>\n",
       "      <td>1998-03-10 00:10:24</td>\n",
       "    </tr>\n",
       "    <tr>\n",
       "      <th>63291</th>\n",
       "      <td>675</td>\n",
       "      <td>318</td>\n",
       "      <td>5</td>\n",
       "      <td>1998-03-10 00:21:13</td>\n",
       "    </tr>\n",
       "    <tr>\n",
       "      <th>87082</th>\n",
       "      <td>675</td>\n",
       "      <td>321</td>\n",
       "      <td>2</td>\n",
       "      <td>1998-03-10 00:11:48</td>\n",
       "    </tr>\n",
       "    <tr>\n",
       "      <th>56108</th>\n",
       "      <td>675</td>\n",
       "      <td>344</td>\n",
       "      <td>4</td>\n",
       "      <td>1998-03-10 00:12:34</td>\n",
       "    </tr>\n",
       "    <tr>\n",
       "      <th>53046</th>\n",
       "      <td>675</td>\n",
       "      <td>347</td>\n",
       "      <td>4</td>\n",
       "      <td>1998-03-10 00:07:11</td>\n",
       "    </tr>\n",
       "    <tr>\n",
       "      <th>94617</th>\n",
       "      <td>675</td>\n",
       "      <td>427</td>\n",
       "      <td>5</td>\n",
       "      <td>1998-03-10 00:28:11</td>\n",
       "    </tr>\n",
       "    <tr>\n",
       "      <th>69915</th>\n",
       "      <td>675</td>\n",
       "      <td>463</td>\n",
       "      <td>5</td>\n",
       "      <td>1998-03-10 00:16:43</td>\n",
       "    </tr>\n",
       "    <tr>\n",
       "      <th>46744</th>\n",
       "      <td>675</td>\n",
       "      <td>509</td>\n",
       "      <td>5</td>\n",
       "      <td>1998-03-10 00:24:25</td>\n",
       "    </tr>\n",
       "    <tr>\n",
       "      <th>46598</th>\n",
       "      <td>675</td>\n",
       "      <td>531</td>\n",
       "      <td>5</td>\n",
       "      <td>1998-03-10 00:18:28</td>\n",
       "    </tr>\n",
       "    <tr>\n",
       "      <th>52962</th>\n",
       "      <td>675</td>\n",
       "      <td>650</td>\n",
       "      <td>5</td>\n",
       "      <td>1998-03-10 00:32:51</td>\n",
       "    </tr>\n",
       "    <tr>\n",
       "      <th>94029</th>\n",
       "      <td>675</td>\n",
       "      <td>750</td>\n",
       "      <td>4</td>\n",
       "      <td>1998-03-10 00:08:07</td>\n",
       "    </tr>\n",
       "    <tr>\n",
       "      <th>53223</th>\n",
       "      <td>675</td>\n",
       "      <td>874</td>\n",
       "      <td>4</td>\n",
       "      <td>1998-03-10 00:11:19</td>\n",
       "    </tr>\n",
       "    <tr>\n",
       "      <th>62277</th>\n",
       "      <td>675</td>\n",
       "      <td>891</td>\n",
       "      <td>2</td>\n",
       "      <td>1998-03-10 00:12:59</td>\n",
       "    </tr>\n",
       "    <tr>\n",
       "      <th>77274</th>\n",
       "      <td>675</td>\n",
       "      <td>896</td>\n",
       "      <td>5</td>\n",
       "      <td>1998-03-10 00:09:35</td>\n",
       "    </tr>\n",
       "    <tr>\n",
       "      <th>66194</th>\n",
       "      <td>675</td>\n",
       "      <td>900</td>\n",
       "      <td>4</td>\n",
       "      <td>1998-03-10 00:10:24</td>\n",
       "    </tr>\n",
       "    <tr>\n",
       "      <th>54994</th>\n",
       "      <td>675</td>\n",
       "      <td>937</td>\n",
       "      <td>1</td>\n",
       "      <td>1998-03-10 00:35:51</td>\n",
       "    </tr>\n",
       "    <tr>\n",
       "      <th>61742</th>\n",
       "      <td>675</td>\n",
       "      <td>1007</td>\n",
       "      <td>4</td>\n",
       "      <td>1998-03-10 00:25:22</td>\n",
       "    </tr>\n",
       "    <tr>\n",
       "      <th>49225</th>\n",
       "      <td>675</td>\n",
       "      <td>1101</td>\n",
       "      <td>4</td>\n",
       "      <td>1998-03-10 00:33:49</td>\n",
       "    </tr>\n",
       "    <tr>\n",
       "      <th>50692</th>\n",
       "      <td>675</td>\n",
       "      <td>1255</td>\n",
       "      <td>1</td>\n",
       "      <td>1998-03-10 00:35:51</td>\n",
       "    </tr>\n",
       "    <tr>\n",
       "      <th>74202</th>\n",
       "      <td>675</td>\n",
       "      <td>1628</td>\n",
       "      <td>5</td>\n",
       "      <td>1998-03-10 00:30:37</td>\n",
       "    </tr>\n",
       "    <tr>\n",
       "      <th>47866</th>\n",
       "      <td>675</td>\n",
       "      <td>1653</td>\n",
       "      <td>5</td>\n",
       "      <td>1998-03-10 00:31:53</td>\n",
       "    </tr>\n",
       "  </tbody>\n",
       "</table>\n",
       "</div>"
      ],
      "text/plain": [
       "       UserID  MovieID  Rating            Datetime\n",
       "81098     675       86       4 1998-03-10 00:26:14\n",
       "90696     675      223       1 1998-03-10 00:35:51\n",
       "92650     675      235       1 1998-03-10 00:35:51\n",
       "95459     675      242       4 1998-03-10 00:08:42\n",
       "82845     675      244       3 1998-03-10 00:29:35\n",
       "53293     675      258       3 1998-03-10 00:11:19\n",
       "97286     675      269       5 1998-03-10 00:08:07\n",
       "93720     675      272       3 1998-03-10 00:07:11\n",
       "73389     675      286       4 1998-03-10 00:07:11\n",
       "77524     675      303       5 1998-03-10 00:08:42\n",
       "47367     675      305       4 1998-03-10 00:09:08\n",
       "44300     675      306       5 1998-03-10 00:08:07\n",
       "53730     675      311       3 1998-03-10 00:10:47\n",
       "54284     675      312       2 1998-03-10 00:10:24\n",
       "63291     675      318       5 1998-03-10 00:21:13\n",
       "87082     675      321       2 1998-03-10 00:11:48\n",
       "56108     675      344       4 1998-03-10 00:12:34\n",
       "53046     675      347       4 1998-03-10 00:07:11\n",
       "94617     675      427       5 1998-03-10 00:28:11\n",
       "69915     675      463       5 1998-03-10 00:16:43\n",
       "46744     675      509       5 1998-03-10 00:24:25\n",
       "46598     675      531       5 1998-03-10 00:18:28\n",
       "52962     675      650       5 1998-03-10 00:32:51\n",
       "94029     675      750       4 1998-03-10 00:08:07\n",
       "53223     675      874       4 1998-03-10 00:11:19\n",
       "62277     675      891       2 1998-03-10 00:12:59\n",
       "77274     675      896       5 1998-03-10 00:09:35\n",
       "66194     675      900       4 1998-03-10 00:10:24\n",
       "54994     675      937       1 1998-03-10 00:35:51\n",
       "61742     675     1007       4 1998-03-10 00:25:22\n",
       "49225     675     1101       4 1998-03-10 00:33:49\n",
       "50692     675     1255       1 1998-03-10 00:35:51\n",
       "74202     675     1628       5 1998-03-10 00:30:37\n",
       "47866     675     1653       5 1998-03-10 00:31:53"
      ]
     },
     "execution_count": 10,
     "metadata": {},
     "output_type": "execute_result"
    }
   ],
   "source": [
    "all_ratings[all_ratings[\"UserID\"] == 675].sort_values(\"MovieID\")"
   ]
  },
  {
   "cell_type": "markdown",
   "metadata": {},
   "source": [
    "# 数据预处理"
   ]
  },
  {
   "cell_type": "markdown",
   "metadata": {},
   "source": [
    "数据挖掘的目标是生成如下形式的规则：<font color = 'blue' face = 'italic'>**如果用户喜欢某些电影，那么他们也会喜欢这部电影**</font>。为此，先增加一列Favorable，来表示用户是否喜欢这部电影。"
   ]
  },
  {
   "cell_type": "code",
   "execution_count": 11,
   "metadata": {
    "ExecuteTime": {
     "end_time": "2019-04-15T02:36:05.483680Z",
     "start_time": "2019-04-15T02:36:05.332947Z"
    }
   },
   "outputs": [
    {
     "data": {
      "text/html": [
       "<div>\n",
       "<style scoped>\n",
       "    .dataframe tbody tr th:only-of-type {\n",
       "        vertical-align: middle;\n",
       "    }\n",
       "\n",
       "    .dataframe tbody tr th {\n",
       "        vertical-align: top;\n",
       "    }\n",
       "\n",
       "    .dataframe thead th {\n",
       "        text-align: right;\n",
       "    }\n",
       "</style>\n",
       "<table border=\"1\" class=\"dataframe\">\n",
       "  <thead>\n",
       "    <tr style=\"text-align: right;\">\n",
       "      <th></th>\n",
       "      <th>UserID</th>\n",
       "      <th>MovieID</th>\n",
       "      <th>Rating</th>\n",
       "      <th>Datetime</th>\n",
       "      <th>Favorable</th>\n",
       "    </tr>\n",
       "  </thead>\n",
       "  <tbody>\n",
       "    <tr>\n",
       "      <th>99995</th>\n",
       "      <td>880</td>\n",
       "      <td>476</td>\n",
       "      <td>3</td>\n",
       "      <td>1997-11-22 05:10:44</td>\n",
       "      <td>False</td>\n",
       "    </tr>\n",
       "    <tr>\n",
       "      <th>99996</th>\n",
       "      <td>716</td>\n",
       "      <td>204</td>\n",
       "      <td>5</td>\n",
       "      <td>1997-11-17 19:39:03</td>\n",
       "      <td>True</td>\n",
       "    </tr>\n",
       "    <tr>\n",
       "      <th>99997</th>\n",
       "      <td>276</td>\n",
       "      <td>1090</td>\n",
       "      <td>1</td>\n",
       "      <td>1997-09-20 22:49:55</td>\n",
       "      <td>False</td>\n",
       "    </tr>\n",
       "    <tr>\n",
       "      <th>99998</th>\n",
       "      <td>13</td>\n",
       "      <td>225</td>\n",
       "      <td>2</td>\n",
       "      <td>1997-12-17 22:52:36</td>\n",
       "      <td>False</td>\n",
       "    </tr>\n",
       "    <tr>\n",
       "      <th>99999</th>\n",
       "      <td>12</td>\n",
       "      <td>203</td>\n",
       "      <td>3</td>\n",
       "      <td>1997-11-19 17:13:03</td>\n",
       "      <td>False</td>\n",
       "    </tr>\n",
       "  </tbody>\n",
       "</table>\n",
       "</div>"
      ],
      "text/plain": [
       "       UserID  MovieID  Rating            Datetime  Favorable\n",
       "99995     880      476       3 1997-11-22 05:10:44      False\n",
       "99996     716      204       5 1997-11-17 19:39:03       True\n",
       "99997     276     1090       1 1997-09-20 22:49:55      False\n",
       "99998      13      225       2 1997-12-17 22:52:36      False\n",
       "99999      12      203       3 1997-11-19 17:13:03      False"
      ]
     },
     "execution_count": 11,
     "metadata": {},
     "output_type": "execute_result"
    }
   ],
   "source": [
    "all_ratings[\"Favorable\"] = all_ratings[\"Rating\"] > 3\n",
    "all_ratings.tail()"
   ]
  },
  {
   "cell_type": "code",
   "execution_count": 12,
   "metadata": {
    "ExecuteTime": {
     "end_time": "2019-04-15T02:36:05.639922Z",
     "start_time": "2019-04-15T02:36:05.483680Z"
    }
   },
   "outputs": [
    {
     "data": {
      "text/plain": [
       "943"
      ]
     },
     "execution_count": 12,
     "metadata": {},
     "output_type": "execute_result"
    }
   ],
   "source": [
    "all_ratings.UserID.max()"
   ]
  },
  {
   "cell_type": "code",
   "execution_count": 13,
   "metadata": {
    "ExecuteTime": {
     "end_time": "2019-04-15T02:36:05.768066Z",
     "start_time": "2019-04-15T02:36:05.639922Z"
    }
   },
   "outputs": [
    {
     "data": {
      "text/html": [
       "<div>\n",
       "<style scoped>\n",
       "    .dataframe tbody tr th:only-of-type {\n",
       "        vertical-align: middle;\n",
       "    }\n",
       "\n",
       "    .dataframe tbody tr th {\n",
       "        vertical-align: top;\n",
       "    }\n",
       "\n",
       "    .dataframe thead th {\n",
       "        text-align: right;\n",
       "    }\n",
       "</style>\n",
       "<table border=\"1\" class=\"dataframe\">\n",
       "  <thead>\n",
       "    <tr style=\"text-align: right;\">\n",
       "      <th></th>\n",
       "      <th>UserID</th>\n",
       "      <th>MovieID</th>\n",
       "      <th>Rating</th>\n",
       "      <th>Datetime</th>\n",
       "      <th>Favorable</th>\n",
       "    </tr>\n",
       "  </thead>\n",
       "  <tbody>\n",
       "    <tr>\n",
       "      <th>202</th>\n",
       "      <td>1</td>\n",
       "      <td>61</td>\n",
       "      <td>4</td>\n",
       "      <td>1997-11-03 07:33:40</td>\n",
       "      <td>True</td>\n",
       "    </tr>\n",
       "    <tr>\n",
       "      <th>305</th>\n",
       "      <td>1</td>\n",
       "      <td>189</td>\n",
       "      <td>3</td>\n",
       "      <td>1998-03-01 06:15:28</td>\n",
       "      <td>False</td>\n",
       "    </tr>\n",
       "    <tr>\n",
       "      <th>333</th>\n",
       "      <td>1</td>\n",
       "      <td>33</td>\n",
       "      <td>4</td>\n",
       "      <td>1997-11-03 07:38:19</td>\n",
       "      <td>True</td>\n",
       "    </tr>\n",
       "    <tr>\n",
       "      <th>334</th>\n",
       "      <td>1</td>\n",
       "      <td>160</td>\n",
       "      <td>4</td>\n",
       "      <td>1997-09-24 03:42:27</td>\n",
       "      <td>True</td>\n",
       "    </tr>\n",
       "    <tr>\n",
       "      <th>478</th>\n",
       "      <td>1</td>\n",
       "      <td>20</td>\n",
       "      <td>4</td>\n",
       "      <td>1998-02-14 04:51:23</td>\n",
       "      <td>True</td>\n",
       "    </tr>\n",
       "  </tbody>\n",
       "</table>\n",
       "</div>"
      ],
      "text/plain": [
       "     UserID  MovieID  Rating            Datetime  Favorable\n",
       "202       1       61       4 1997-11-03 07:33:40       True\n",
       "305       1      189       3 1998-03-01 06:15:28      False\n",
       "333       1       33       4 1997-11-03 07:38:19       True\n",
       "334       1      160       4 1997-09-24 03:42:27       True\n",
       "478       1       20       4 1998-02-14 04:51:23       True"
      ]
     },
     "execution_count": 13,
     "metadata": {},
     "output_type": "execute_result"
    }
   ],
   "source": [
    "all_ratings[all_ratings[\"UserID\"] == 1][:5]"
   ]
  },
  {
   "cell_type": "markdown",
   "metadata": {},
   "source": [
    "从数据集中选取一部分数据用作训练集，这能有效减少搜索空间，提升Apriori算法的速度。我们取前200名用户的打分数据。"
   ]
  },
  {
   "cell_type": "code",
   "execution_count": 14,
   "metadata": {
    "ExecuteTime": {
     "end_time": "2019-04-15T02:36:05.939968Z",
     "start_time": "2019-04-15T02:36:05.768066Z"
    }
   },
   "outputs": [],
   "source": [
    "ratings = all_ratings[all_ratings['UserID'].isin(range(500))]  # & ratings[\"UserID\"].isin(range(100))]"
   ]
  },
  {
   "cell_type": "code",
   "execution_count": 15,
   "metadata": {
    "ExecuteTime": {
     "end_time": "2019-04-15T02:36:06.087097Z",
     "start_time": "2019-04-15T02:36:05.939968Z"
    }
   },
   "outputs": [
    {
     "data": {
      "text/plain": [
       "(56545, 5)"
      ]
     },
     "execution_count": 15,
     "metadata": {},
     "output_type": "execute_result"
    }
   ],
   "source": [
    "ratings.shape"
   ]
  },
  {
   "cell_type": "code",
   "execution_count": 16,
   "metadata": {
    "ExecuteTime": {
     "end_time": "2019-04-15T02:36:06.252626Z",
     "start_time": "2019-04-15T02:36:06.087097Z"
    }
   },
   "outputs": [
    {
     "data": {
      "text/html": [
       "<div>\n",
       "<style scoped>\n",
       "    .dataframe tbody tr th:only-of-type {\n",
       "        vertical-align: middle;\n",
       "    }\n",
       "\n",
       "    .dataframe tbody tr th {\n",
       "        vertical-align: top;\n",
       "    }\n",
       "\n",
       "    .dataframe thead th {\n",
       "        text-align: right;\n",
       "    }\n",
       "</style>\n",
       "<table border=\"1\" class=\"dataframe\">\n",
       "  <thead>\n",
       "    <tr style=\"text-align: right;\">\n",
       "      <th></th>\n",
       "      <th>UserID</th>\n",
       "      <th>MovieID</th>\n",
       "      <th>Rating</th>\n",
       "      <th>Datetime</th>\n",
       "      <th>Favorable</th>\n",
       "    </tr>\n",
       "  </thead>\n",
       "  <tbody>\n",
       "    <tr>\n",
       "      <th>5</th>\n",
       "      <td>298</td>\n",
       "      <td>474</td>\n",
       "      <td>4</td>\n",
       "      <td>1998-01-07 14:20:06</td>\n",
       "      <td>True</td>\n",
       "    </tr>\n",
       "    <tr>\n",
       "      <th>7</th>\n",
       "      <td>253</td>\n",
       "      <td>465</td>\n",
       "      <td>5</td>\n",
       "      <td>1998-04-03 18:34:27</td>\n",
       "      <td>True</td>\n",
       "    </tr>\n",
       "    <tr>\n",
       "      <th>11</th>\n",
       "      <td>286</td>\n",
       "      <td>1014</td>\n",
       "      <td>5</td>\n",
       "      <td>1997-11-17 15:38:45</td>\n",
       "      <td>True</td>\n",
       "    </tr>\n",
       "    <tr>\n",
       "      <th>12</th>\n",
       "      <td>200</td>\n",
       "      <td>222</td>\n",
       "      <td>5</td>\n",
       "      <td>1997-10-05 09:05:40</td>\n",
       "      <td>True</td>\n",
       "    </tr>\n",
       "    <tr>\n",
       "      <th>16</th>\n",
       "      <td>122</td>\n",
       "      <td>387</td>\n",
       "      <td>5</td>\n",
       "      <td>1997-11-11 17:47:39</td>\n",
       "      <td>True</td>\n",
       "    </tr>\n",
       "  </tbody>\n",
       "</table>\n",
       "</div>"
      ],
      "text/plain": [
       "    UserID  MovieID  Rating            Datetime  Favorable\n",
       "5      298      474       4 1998-01-07 14:20:06       True\n",
       "7      253      465       5 1998-04-03 18:34:27       True\n",
       "11     286     1014       5 1997-11-17 15:38:45       True\n",
       "12     200      222       5 1997-10-05 09:05:40       True\n",
       "16     122      387       5 1997-11-11 17:47:39       True"
      ]
     },
     "execution_count": 16,
     "metadata": {},
     "output_type": "execute_result"
    }
   ],
   "source": [
    "# We start by creating a dataset of each user's favourable reviews\n",
    "favorable_ratings = ratings[ratings[\"Favorable\"]]\n",
    "favorable_ratings[:5]"
   ]
  },
  {
   "cell_type": "code",
   "execution_count": 17,
   "metadata": {
    "ExecuteTime": {
     "end_time": "2019-04-15T02:36:06.377628Z",
     "start_time": "2019-04-15T02:36:06.252626Z"
    }
   },
   "outputs": [
    {
     "data": {
      "text/plain": [
       "(31687, 5)"
      ]
     },
     "execution_count": 17,
     "metadata": {},
     "output_type": "execute_result"
    }
   ],
   "source": [
    "favorable_ratings.shape"
   ]
  },
  {
   "cell_type": "code",
   "execution_count": 18,
   "metadata": {
    "ExecuteTime": {
     "end_time": "2019-04-15T02:36:06.640422Z",
     "start_time": "2019-04-15T02:36:06.377628Z"
    }
   },
   "outputs": [
    {
     "data": {
      "text/plain": [
       "499"
      ]
     },
     "execution_count": 18,
     "metadata": {},
     "output_type": "execute_result"
    }
   ],
   "source": [
    "favorable_reviews_by_users = dict((k, frozenset(v.values)) for k, v in favorable_ratings.groupby(\"UserID\")[\"MovieID\"])\n",
    "len(favorable_reviews_by_users)"
   ]
  },
  {
   "cell_type": "code",
   "execution_count": 19,
   "metadata": {
    "ExecuteTime": {
     "end_time": "2019-04-15T02:36:06.702904Z",
     "start_time": "2019-04-15T02:36:06.640422Z"
    }
   },
   "outputs": [
    {
     "data": {
      "text/html": [
       "<div>\n",
       "<style scoped>\n",
       "    .dataframe tbody tr th:only-of-type {\n",
       "        vertical-align: middle;\n",
       "    }\n",
       "\n",
       "    .dataframe tbody tr th {\n",
       "        vertical-align: top;\n",
       "    }\n",
       "\n",
       "    .dataframe thead th {\n",
       "        text-align: right;\n",
       "    }\n",
       "</style>\n",
       "<table border=\"1\" class=\"dataframe\">\n",
       "  <thead>\n",
       "    <tr style=\"text-align: right;\">\n",
       "      <th></th>\n",
       "      <th>Favorable</th>\n",
       "    </tr>\n",
       "    <tr>\n",
       "      <th>MovieID</th>\n",
       "      <th></th>\n",
       "    </tr>\n",
       "  </thead>\n",
       "  <tbody>\n",
       "    <tr>\n",
       "      <th>50</th>\n",
       "      <td>267.0</td>\n",
       "    </tr>\n",
       "    <tr>\n",
       "      <th>100</th>\n",
       "      <td>238.0</td>\n",
       "    </tr>\n",
       "    <tr>\n",
       "      <th>98</th>\n",
       "      <td>208.0</td>\n",
       "    </tr>\n",
       "    <tr>\n",
       "      <th>181</th>\n",
       "      <td>205.0</td>\n",
       "    </tr>\n",
       "    <tr>\n",
       "      <th>258</th>\n",
       "      <td>192.0</td>\n",
       "    </tr>\n",
       "  </tbody>\n",
       "</table>\n",
       "</div>"
      ],
      "text/plain": [
       "         Favorable\n",
       "MovieID           \n",
       "50           267.0\n",
       "100          238.0\n",
       "98           208.0\n",
       "181          205.0\n",
       "258          192.0"
      ]
     },
     "execution_count": 19,
     "metadata": {},
     "output_type": "execute_result"
    }
   ],
   "source": [
    "num_favorable_by_movie = ratings[[\"MovieID\", \"Favorable\"]].groupby(\"MovieID\").sum()\n",
    "num_favorable_by_movie.sort_values(\"Favorable\", ascending=False)[:5]"
   ]
  },
  {
   "cell_type": "markdown",
   "metadata": {},
   "source": [
    "当然，我们现在能看到的只是MovieID，不想电影名称看起来那么直观，可以直接从u.item中获取相关信息，然后进行合并"
   ]
  },
  {
   "cell_type": "code",
   "execution_count": 20,
   "metadata": {
    "ExecuteTime": {
     "end_time": "2019-04-15T02:36:06.824783Z",
     "start_time": "2019-04-15T02:36:06.702904Z"
    }
   },
   "outputs": [],
   "source": [
    "moive_info_columns = [\"MovieID\", \"Title\", 'release_date', 'video_release_date',\n",
    "                      'IMDb_URL', 'unknown', 'Action', 'Adventure', 'Animation',\n",
    "                      'Childrens', 'Comedy', 'Crime', 'Documentary', 'Drama', 'Fantasy',\n",
    "                      'Film_Noir', 'Horror', 'Musical', 'Mystery', 'Romance', 'Sci_Fi',\n",
    "                      'Thriller', 'War', 'Western']\n",
    "movie_info_filename = os.path.join(data_folder, \"u.item\")\n",
    "movie_info = pd.read_csv(movie_info_filename,\n",
    "                         delimiter=\"|\",\n",
    "                         header=None,\n",
    "                         names=moive_info_columns,\n",
    "                         encoding = \"mac-roman\")"
   ]
  },
  {
   "cell_type": "code",
   "execution_count": 21,
   "metadata": {
    "ExecuteTime": {
     "end_time": "2019-04-15T02:36:07.137340Z",
     "start_time": "2019-04-15T02:36:06.824783Z"
    }
   },
   "outputs": [],
   "source": [
    "movie_info.to_csv(os.path.join(data_folder, \"u.item.csv\"))"
   ]
  },
  {
   "cell_type": "code",
   "execution_count": 22,
   "metadata": {
    "ExecuteTime": {
     "end_time": "2019-04-15T02:36:07.184098Z",
     "start_time": "2019-04-15T02:36:07.137340Z"
    }
   },
   "outputs": [
    {
     "data": {
      "text/html": [
       "<div>\n",
       "<style scoped>\n",
       "    .dataframe tbody tr th:only-of-type {\n",
       "        vertical-align: middle;\n",
       "    }\n",
       "\n",
       "    .dataframe tbody tr th {\n",
       "        vertical-align: top;\n",
       "    }\n",
       "\n",
       "    .dataframe thead th {\n",
       "        text-align: right;\n",
       "    }\n",
       "</style>\n",
       "<table border=\"1\" class=\"dataframe\">\n",
       "  <thead>\n",
       "    <tr style=\"text-align: right;\">\n",
       "      <th></th>\n",
       "      <th>MovieID</th>\n",
       "      <th>Title</th>\n",
       "      <th>release_date</th>\n",
       "      <th>video_release_date</th>\n",
       "      <th>IMDb_URL</th>\n",
       "      <th>unknown</th>\n",
       "      <th>Action</th>\n",
       "      <th>Adventure</th>\n",
       "      <th>Animation</th>\n",
       "      <th>Childrens</th>\n",
       "      <th>...</th>\n",
       "      <th>Fantasy</th>\n",
       "      <th>Film_Noir</th>\n",
       "      <th>Horror</th>\n",
       "      <th>Musical</th>\n",
       "      <th>Mystery</th>\n",
       "      <th>Romance</th>\n",
       "      <th>Sci_Fi</th>\n",
       "      <th>Thriller</th>\n",
       "      <th>War</th>\n",
       "      <th>Western</th>\n",
       "    </tr>\n",
       "  </thead>\n",
       "  <tbody>\n",
       "    <tr>\n",
       "      <th>0</th>\n",
       "      <td>1</td>\n",
       "      <td>Toy Story (1995)</td>\n",
       "      <td>01-Jan-1995</td>\n",
       "      <td>NaN</td>\n",
       "      <td>http://us.imdb.com/M/title-exact?Toy%20Story%2...</td>\n",
       "      <td>0</td>\n",
       "      <td>0</td>\n",
       "      <td>0</td>\n",
       "      <td>1</td>\n",
       "      <td>1</td>\n",
       "      <td>...</td>\n",
       "      <td>0</td>\n",
       "      <td>0</td>\n",
       "      <td>0</td>\n",
       "      <td>0</td>\n",
       "      <td>0</td>\n",
       "      <td>0</td>\n",
       "      <td>0</td>\n",
       "      <td>0</td>\n",
       "      <td>0</td>\n",
       "      <td>0</td>\n",
       "    </tr>\n",
       "    <tr>\n",
       "      <th>1</th>\n",
       "      <td>2</td>\n",
       "      <td>GoldenEye (1995)</td>\n",
       "      <td>01-Jan-1995</td>\n",
       "      <td>NaN</td>\n",
       "      <td>http://us.imdb.com/M/title-exact?GoldenEye%20(...</td>\n",
       "      <td>0</td>\n",
       "      <td>1</td>\n",
       "      <td>1</td>\n",
       "      <td>0</td>\n",
       "      <td>0</td>\n",
       "      <td>...</td>\n",
       "      <td>0</td>\n",
       "      <td>0</td>\n",
       "      <td>0</td>\n",
       "      <td>0</td>\n",
       "      <td>0</td>\n",
       "      <td>0</td>\n",
       "      <td>0</td>\n",
       "      <td>1</td>\n",
       "      <td>0</td>\n",
       "      <td>0</td>\n",
       "    </tr>\n",
       "    <tr>\n",
       "      <th>2</th>\n",
       "      <td>3</td>\n",
       "      <td>Four Rooms (1995)</td>\n",
       "      <td>01-Jan-1995</td>\n",
       "      <td>NaN</td>\n",
       "      <td>http://us.imdb.com/M/title-exact?Four%20Rooms%...</td>\n",
       "      <td>0</td>\n",
       "      <td>0</td>\n",
       "      <td>0</td>\n",
       "      <td>0</td>\n",
       "      <td>0</td>\n",
       "      <td>...</td>\n",
       "      <td>0</td>\n",
       "      <td>0</td>\n",
       "      <td>0</td>\n",
       "      <td>0</td>\n",
       "      <td>0</td>\n",
       "      <td>0</td>\n",
       "      <td>0</td>\n",
       "      <td>1</td>\n",
       "      <td>0</td>\n",
       "      <td>0</td>\n",
       "    </tr>\n",
       "    <tr>\n",
       "      <th>3</th>\n",
       "      <td>4</td>\n",
       "      <td>Get Shorty (1995)</td>\n",
       "      <td>01-Jan-1995</td>\n",
       "      <td>NaN</td>\n",
       "      <td>http://us.imdb.com/M/title-exact?Get%20Shorty%...</td>\n",
       "      <td>0</td>\n",
       "      <td>1</td>\n",
       "      <td>0</td>\n",
       "      <td>0</td>\n",
       "      <td>0</td>\n",
       "      <td>...</td>\n",
       "      <td>0</td>\n",
       "      <td>0</td>\n",
       "      <td>0</td>\n",
       "      <td>0</td>\n",
       "      <td>0</td>\n",
       "      <td>0</td>\n",
       "      <td>0</td>\n",
       "      <td>0</td>\n",
       "      <td>0</td>\n",
       "      <td>0</td>\n",
       "    </tr>\n",
       "    <tr>\n",
       "      <th>4</th>\n",
       "      <td>5</td>\n",
       "      <td>Copycat (1995)</td>\n",
       "      <td>01-Jan-1995</td>\n",
       "      <td>NaN</td>\n",
       "      <td>http://us.imdb.com/M/title-exact?Copycat%20(1995)</td>\n",
       "      <td>0</td>\n",
       "      <td>0</td>\n",
       "      <td>0</td>\n",
       "      <td>0</td>\n",
       "      <td>0</td>\n",
       "      <td>...</td>\n",
       "      <td>0</td>\n",
       "      <td>0</td>\n",
       "      <td>0</td>\n",
       "      <td>0</td>\n",
       "      <td>0</td>\n",
       "      <td>0</td>\n",
       "      <td>0</td>\n",
       "      <td>1</td>\n",
       "      <td>0</td>\n",
       "      <td>0</td>\n",
       "    </tr>\n",
       "  </tbody>\n",
       "</table>\n",
       "<p>5 rows × 24 columns</p>\n",
       "</div>"
      ],
      "text/plain": [
       "   MovieID              Title release_date  video_release_date  \\\n",
       "0        1   Toy Story (1995)  01-Jan-1995                 NaN   \n",
       "1        2   GoldenEye (1995)  01-Jan-1995                 NaN   \n",
       "2        3  Four Rooms (1995)  01-Jan-1995                 NaN   \n",
       "3        4  Get Shorty (1995)  01-Jan-1995                 NaN   \n",
       "4        5     Copycat (1995)  01-Jan-1995                 NaN   \n",
       "\n",
       "                                            IMDb_URL  unknown  Action  \\\n",
       "0  http://us.imdb.com/M/title-exact?Toy%20Story%2...        0       0   \n",
       "1  http://us.imdb.com/M/title-exact?GoldenEye%20(...        0       1   \n",
       "2  http://us.imdb.com/M/title-exact?Four%20Rooms%...        0       0   \n",
       "3  http://us.imdb.com/M/title-exact?Get%20Shorty%...        0       1   \n",
       "4  http://us.imdb.com/M/title-exact?Copycat%20(1995)        0       0   \n",
       "\n",
       "   Adventure  Animation  Childrens  ...  Fantasy  Film_Noir  Horror  Musical  \\\n",
       "0          0          1          1  ...        0          0       0        0   \n",
       "1          1          0          0  ...        0          0       0        0   \n",
       "2          0          0          0  ...        0          0       0        0   \n",
       "3          0          0          0  ...        0          0       0        0   \n",
       "4          0          0          0  ...        0          0       0        0   \n",
       "\n",
       "   Mystery  Romance  Sci_Fi  Thriller  War  Western  \n",
       "0        0        0       0         0    0        0  \n",
       "1        0        0       0         1    0        0  \n",
       "2        0        0       0         1    0        0  \n",
       "3        0        0       0         0    0        0  \n",
       "4        0        0       0         1    0        0  \n",
       "\n",
       "[5 rows x 24 columns]"
      ]
     },
     "execution_count": 22,
     "metadata": {},
     "output_type": "execute_result"
    }
   ],
   "source": [
    "movie_info.head()"
   ]
  },
  {
   "cell_type": "markdown",
   "metadata": {},
   "source": [
    "从unkonw开始直到最后一列，均是指电影的类型。我们需要用到的，只有MovieID和Title两列。以下是具体合并代码："
   ]
  },
  {
   "cell_type": "code",
   "execution_count": 23,
   "metadata": {
    "ExecuteTime": {
     "end_time": "2019-04-15T02:36:07.311831Z",
     "start_time": "2019-04-15T02:36:07.184098Z"
    }
   },
   "outputs": [],
   "source": [
    "ratings = pd.merge(ratings[['UserID', 'MovieID', 'Rating', 'Favorable']],\n",
    "                   movie_info[['MovieID', 'Title']])"
   ]
  },
  {
   "cell_type": "code",
   "execution_count": 24,
   "metadata": {
    "ExecuteTime": {
     "end_time": "2019-04-15T02:36:07.946046Z",
     "start_time": "2019-04-15T02:36:07.311831Z"
    }
   },
   "outputs": [],
   "source": [
    "ratings.to_csv(os.path.join(data_folder, \"u.data.item.csv\"))"
   ]
  },
  {
   "cell_type": "markdown",
   "metadata": {},
   "source": [
    "接下来，新建一个数据集，只包括用户喜欢某部电影的数据行。"
   ]
  },
  {
   "cell_type": "code",
   "execution_count": 25,
   "metadata": {
    "ExecuteTime": {
     "end_time": "2019-04-15T02:36:07.977292Z",
     "start_time": "2019-04-15T02:36:07.946046Z"
    }
   },
   "outputs": [
    {
     "data": {
      "text/html": [
       "<div>\n",
       "<style scoped>\n",
       "    .dataframe tbody tr th:only-of-type {\n",
       "        vertical-align: middle;\n",
       "    }\n",
       "\n",
       "    .dataframe tbody tr th {\n",
       "        vertical-align: top;\n",
       "    }\n",
       "\n",
       "    .dataframe thead th {\n",
       "        text-align: right;\n",
       "    }\n",
       "</style>\n",
       "<table border=\"1\" class=\"dataframe\">\n",
       "  <thead>\n",
       "    <tr style=\"text-align: right;\">\n",
       "      <th></th>\n",
       "      <th>UserID</th>\n",
       "      <th>MovieID</th>\n",
       "      <th>Rating</th>\n",
       "      <th>Favorable</th>\n",
       "      <th>Title</th>\n",
       "    </tr>\n",
       "  </thead>\n",
       "  <tbody>\n",
       "    <tr>\n",
       "      <th>2</th>\n",
       "      <td>226</td>\n",
       "      <td>242</td>\n",
       "      <td>5</td>\n",
       "      <td>True</td>\n",
       "      <td>Kolya (1996)</td>\n",
       "    </tr>\n",
       "    <tr>\n",
       "      <th>4</th>\n",
       "      <td>306</td>\n",
       "      <td>242</td>\n",
       "      <td>5</td>\n",
       "      <td>True</td>\n",
       "      <td>Kolya (1996)</td>\n",
       "    </tr>\n",
       "    <tr>\n",
       "      <th>5</th>\n",
       "      <td>296</td>\n",
       "      <td>242</td>\n",
       "      <td>4</td>\n",
       "      <td>True</td>\n",
       "      <td>Kolya (1996)</td>\n",
       "    </tr>\n",
       "    <tr>\n",
       "      <th>6</th>\n",
       "      <td>34</td>\n",
       "      <td>242</td>\n",
       "      <td>5</td>\n",
       "      <td>True</td>\n",
       "      <td>Kolya (1996)</td>\n",
       "    </tr>\n",
       "    <tr>\n",
       "      <th>7</th>\n",
       "      <td>271</td>\n",
       "      <td>242</td>\n",
       "      <td>4</td>\n",
       "      <td>True</td>\n",
       "      <td>Kolya (1996)</td>\n",
       "    </tr>\n",
       "  </tbody>\n",
       "</table>\n",
       "</div>"
      ],
      "text/plain": [
       "   UserID  MovieID  Rating  Favorable         Title\n",
       "2     226      242       5       True  Kolya (1996)\n",
       "4     306      242       5       True  Kolya (1996)\n",
       "5     296      242       4       True  Kolya (1996)\n",
       "6      34      242       5       True  Kolya (1996)\n",
       "7     271      242       4       True  Kolya (1996)"
      ]
     },
     "execution_count": 25,
     "metadata": {},
     "output_type": "execute_result"
    }
   ],
   "source": [
    "favorable_ratings = ratings[ratings[\"Favorable\"]]\n",
    "favorable_ratings[:5]"
   ]
  },
  {
   "cell_type": "markdown",
   "metadata": {},
   "source": [
    "我们可以创建一个数据框，以便了解每部电影的影迷数量。"
   ]
  },
  {
   "cell_type": "code",
   "execution_count": 26,
   "metadata": {
    "ExecuteTime": {
     "end_time": "2019-04-15T02:36:08.149156Z",
     "start_time": "2019-04-15T02:36:07.977292Z"
    }
   },
   "outputs": [
    {
     "data": {
      "text/html": [
       "<div>\n",
       "<style scoped>\n",
       "    .dataframe tbody tr th:only-of-type {\n",
       "        vertical-align: middle;\n",
       "    }\n",
       "\n",
       "    .dataframe tbody tr th {\n",
       "        vertical-align: top;\n",
       "    }\n",
       "\n",
       "    .dataframe thead th {\n",
       "        text-align: right;\n",
       "    }\n",
       "</style>\n",
       "<table border=\"1\" class=\"dataframe\">\n",
       "  <thead>\n",
       "    <tr style=\"text-align: right;\">\n",
       "      <th></th>\n",
       "      <th>Favorable</th>\n",
       "    </tr>\n",
       "    <tr>\n",
       "      <th>Title</th>\n",
       "      <th></th>\n",
       "    </tr>\n",
       "  </thead>\n",
       "  <tbody>\n",
       "    <tr>\n",
       "      <th>Star Wars (1977)</th>\n",
       "      <td>267.0</td>\n",
       "    </tr>\n",
       "    <tr>\n",
       "      <th>Fargo (1996)</th>\n",
       "      <td>238.0</td>\n",
       "    </tr>\n",
       "    <tr>\n",
       "      <th>Silence of the Lambs, The (1991)</th>\n",
       "      <td>208.0</td>\n",
       "    </tr>\n",
       "    <tr>\n",
       "      <th>Return of the Jedi (1983)</th>\n",
       "      <td>205.0</td>\n",
       "    </tr>\n",
       "    <tr>\n",
       "      <th>Contact (1997)</th>\n",
       "      <td>192.0</td>\n",
       "    </tr>\n",
       "  </tbody>\n",
       "</table>\n",
       "</div>"
      ],
      "text/plain": [
       "                                  Favorable\n",
       "Title                                      \n",
       "Star Wars (1977)                      267.0\n",
       "Fargo (1996)                          238.0\n",
       "Silence of the Lambs, The (1991)      208.0\n",
       "Return of the Jedi (1983)             205.0\n",
       "Contact (1997)                        192.0"
      ]
     },
     "execution_count": 26,
     "metadata": {},
     "output_type": "execute_result"
    }
   ],
   "source": [
    "num_favorable_by_movie = ratings[[\"Title\", \"Favorable\"]].groupby(\"Title\").sum()\n",
    "num_favorable_by_movie.sort_values(\"Favorable\", ascending=False)[:5]"
   ]
  },
  {
   "cell_type": "markdown",
   "metadata": {},
   "source": [
    "在生成项集时，需要搜索用户喜欢的电影。因此，接下来，我们需要知道每个用户各喜欢哪些电影，按照User ID进行分组，并遍历每个用户看过的每一部电影。"
   ]
  },
  {
   "cell_type": "code",
   "execution_count": 27,
   "metadata": {
    "ExecuteTime": {
     "end_time": "2019-04-15T02:36:08.339296Z",
     "start_time": "2019-04-15T02:36:08.149156Z"
    }
   },
   "outputs": [],
   "source": [
    "favorable_reviews_by_users_list = [list(v.values) for k, v in favorable_ratings.groupby(\"UserID\")[\"Title\"]]"
   ]
  },
  {
   "cell_type": "code",
   "execution_count": 28,
   "metadata": {
    "ExecuteTime": {
     "end_time": "2019-04-15T02:36:08.417414Z",
     "start_time": "2019-04-15T02:36:08.339296Z"
    }
   },
   "outputs": [
    {
     "data": {
      "text/plain": [
       "[['Kolya (1996)',\n",
       "  'L.A. Confidential (1997)',\n",
       "  'Men in Black (1997)',\n",
       "  'Toy Story (1995)',\n",
       "  'Restoration (1995)',\n",
       "  'Fly Away Home (1996)',\n",
       "  'Fargo (1996)',\n",
       "  'Jerry Maguire (1996)',\n",
       "  'Truth About Cats & Dogs, The (1996)',\n",
       "  'Birdcage, The (1996)',\n",
       "  'Sense and Sensibility (1995)',\n",
       "  'Good Will Hunting (1997)',\n",
       "  'Postino, Il (1994)',\n",
       "  'Heat (1995)',\n",
       "  \"My Best Friend's Wedding (1997)\",\n",
       "  'Godfather, The (1972)',\n",
       "  \"Ulee's Gold (1997)\",\n",
       "  'English Patient, The (1996)',\n",
       "  'Once Upon a Time... When We Were Colored (1995)',\n",
       "  'Star Wars (1977)',\n",
       "  'Mrs. Brown (Her Majesty, Mrs. Brown) (1997)',\n",
       "  'In & Out (1997)',\n",
       "  'Tin Cup (1996)',\n",
       "  'Rosewood (1997)',\n",
       "  'Donnie Brasco (1997)',\n",
       "  'Mighty Aphrodite (1995)',\n",
       "  'Breakdown (1997)',\n",
       "  'Full Monty, The (1997)',\n",
       "  'Rainmaker, The (1997)',\n",
       "  'Secrets & Lies (1996)',\n",
       "  'Shall We Dance? (1996)',\n",
       "  'Hoodlum (1997)',\n",
       "  'Emma (1996)',\n",
       "  'As Good As It Gets (1997)',\n",
       "  'Time to Kill, A (1996)',\n",
       "  'Air Force One (1997)',\n",
       "  'Leaving Las Vegas (1995)',\n",
       "  'Titanic (1997)',\n",
       "  'Wings of the Dove, The (1997)',\n",
       "  \"Ulee's Gold (1997)\"],\n",
       " ['Jackie Brown (1997)',\n",
       "  'Cop Land (1997)',\n",
       "  'Return of the Jedi (1983)',\n",
       "  'Conspiracy Theory (1997)',\n",
       "  'Wag the Dog (1997)',\n",
       "  \"Schindler's List (1993)\",\n",
       "  'Apostle, The (1997)',\n",
       "  'Mother (1996)',\n",
       "  'Edge, The (1997)',\n",
       "  'Boogie Nights (1997)',\n",
       "  'Event Horizon (1997)',\n",
       "  'Paradise Lost: The Child Murders at Robin Hood Hills (1996)',\n",
       "  'Desperate Measures (1998)',\n",
       "  'Desperate Measures (1998)',\n",
       "  'Man Who Knew Too Little, The (1997)']]"
      ]
     },
     "execution_count": 28,
     "metadata": {},
     "output_type": "execute_result"
    }
   ],
   "source": [
    "favorable_reviews_by_users_list[1:3]"
   ]
  },
  {
   "cell_type": "code",
   "execution_count": 29,
   "metadata": {
    "ExecuteTime": {
     "end_time": "2019-04-15T02:36:08.632571Z",
     "start_time": "2019-04-15T02:36:08.417414Z"
    }
   },
   "outputs": [],
   "source": [
    "favorable_reviews_by_users = dict((k, frozenset(v.values)) for k, v in favorable_ratings.groupby(\"UserID\")[\"Title\"])"
   ]
  },
  {
   "cell_type": "markdown",
   "metadata": {},
   "source": [
    "上面的代码把 v.values 存储为 frozenset ，便于快速判断用户是否为某部电影打过分。对于这种操作，集合比列表速度快。"
   ]
  },
  {
   "cell_type": "markdown",
   "metadata": {},
   "source": [
    "比如UserID为173的用户，他喜欢的电影如下："
   ]
  },
  {
   "cell_type": "code",
   "execution_count": 30,
   "metadata": {
    "ExecuteTime": {
     "end_time": "2019-04-15T02:36:08.757573Z",
     "start_time": "2019-04-15T02:36:08.632571Z"
    }
   },
   "outputs": [
    {
     "data": {
      "text/plain": [
       "frozenset({'Air Force One (1997)',\n",
       "           'Career Girls (1997)',\n",
       "           'Chasing Amy (1997)',\n",
       "           'Conspiracy Theory (1997)',\n",
       "           'Contact (1997)',\n",
       "           'Cop Land (1997)',\n",
       "           \"Dante's Peak (1997)\",\n",
       "           'Desperate Measures (1998)',\n",
       "           \"Devil's Own, The (1997)\",\n",
       "           'Edge, The (1997)',\n",
       "           'English Patient, The (1996)',\n",
       "           'Event Horizon (1997)',\n",
       "           'Everyone Says I Love You (1996)',\n",
       "           'Evita (1996)',\n",
       "           'Full Monty, The (1997)',\n",
       "           'G.I. Jane (1997)',\n",
       "           'Hoodlum (1997)',\n",
       "           'Ice Storm, The (1997)',\n",
       "           'In & Out (1997)',\n",
       "           'In the Company of Men (1997)',\n",
       "           'Kiss Me, Guido (1997)',\n",
       "           'Kiss the Girls (1997)',\n",
       "           'Kolya (1996)',\n",
       "           'L.A. Confidential (1997)',\n",
       "           'Liar Liar (1997)',\n",
       "           'Lost Highway (1997)',\n",
       "           'Mother (1996)',\n",
       "           'Mrs. Brown (Her Majesty, Mrs. Brown) (1997)',\n",
       "           'Murder at 1600 (1997)',\n",
       "           'Peacemaker, The (1997)',\n",
       "           'Rosewood (1997)',\n",
       "           'Seven Years in Tibet (1997)',\n",
       "           'Shadow Conspiracy (1997)',\n",
       "           'Soul Food (1997)',\n",
       "           'Thousand Acres, A (1997)',\n",
       "           'U Turn (1997)',\n",
       "           \"Ulee's Gold (1997)\"})"
      ]
     },
     "execution_count": 30,
     "metadata": {},
     "output_type": "execute_result"
    }
   ],
   "source": [
    "favorable_reviews_by_users[173]"
   ]
  },
  {
   "cell_type": "markdown",
   "metadata": {},
   "source": [
    "下面这种方式可能更好一点："
   ]
  },
  {
   "cell_type": "code",
   "execution_count": 31,
   "metadata": {
    "ExecuteTime": {
     "end_time": "2019-04-15T02:36:08.943134Z",
     "start_time": "2019-04-15T02:36:08.757573Z"
    }
   },
   "outputs": [
    {
     "data": {
      "text/plain": [
       "frozenset({'Air Force One (1997)',\n",
       "           'As Good As It Gets (1997)',\n",
       "           'Birdcage, The (1996)',\n",
       "           'Breakdown (1997)',\n",
       "           'Donnie Brasco (1997)',\n",
       "           'Emma (1996)',\n",
       "           'English Patient, The (1996)',\n",
       "           'Fargo (1996)',\n",
       "           'Fly Away Home (1996)',\n",
       "           'Full Monty, The (1997)',\n",
       "           'Godfather, The (1972)',\n",
       "           'Good Will Hunting (1997)',\n",
       "           'Heat (1995)',\n",
       "           'Hoodlum (1997)',\n",
       "           'In & Out (1997)',\n",
       "           'Jerry Maguire (1996)',\n",
       "           'Kolya (1996)',\n",
       "           'L.A. Confidential (1997)',\n",
       "           'Leaving Las Vegas (1995)',\n",
       "           'Men in Black (1997)',\n",
       "           'Mighty Aphrodite (1995)',\n",
       "           'Mrs. Brown (Her Majesty, Mrs. Brown) (1997)',\n",
       "           \"My Best Friend's Wedding (1997)\",\n",
       "           'Once Upon a Time... When We Were Colored (1995)',\n",
       "           'Postino, Il (1994)',\n",
       "           'Rainmaker, The (1997)',\n",
       "           'Restoration (1995)',\n",
       "           'Rosewood (1997)',\n",
       "           'Secrets & Lies (1996)',\n",
       "           'Sense and Sensibility (1995)',\n",
       "           'Shall We Dance? (1996)',\n",
       "           'Star Wars (1977)',\n",
       "           'Time to Kill, A (1996)',\n",
       "           'Tin Cup (1996)',\n",
       "           'Titanic (1997)',\n",
       "           'Toy Story (1995)',\n",
       "           'Truth About Cats & Dogs, The (1996)',\n",
       "           \"Ulee's Gold (1997)\",\n",
       "           'Wings of the Dove, The (1997)'})"
      ]
     },
     "execution_count": 31,
     "metadata": {},
     "output_type": "execute_result"
    }
   ],
   "source": [
    "favorable_reviews_by_users.get(2)"
   ]
  },
  {
   "cell_type": "code",
   "execution_count": 32,
   "metadata": {
    "ExecuteTime": {
     "end_time": "2019-04-15T02:36:09.146245Z",
     "start_time": "2019-04-15T02:36:08.943134Z"
    }
   },
   "outputs": [],
   "source": [
    "count = [len(value) for key, value in favorable_reviews_by_users.items()]"
   ]
  },
  {
   "cell_type": "code",
   "execution_count": 33,
   "metadata": {
    "ExecuteTime": {
     "end_time": "2019-04-15T02:36:09.336477Z",
     "start_time": "2019-04-15T02:36:09.146245Z"
    }
   },
   "outputs": [
    {
     "data": {
      "text/plain": [
       "3"
      ]
     },
     "execution_count": 33,
     "metadata": {},
     "output_type": "execute_result"
    }
   ],
   "source": [
    "min(count)"
   ]
  },
  {
   "cell_type": "code",
   "execution_count": 34,
   "metadata": {
    "ExecuteTime": {
     "end_time": "2019-04-15T02:36:09.477093Z",
     "start_time": "2019-04-15T02:36:09.336477Z"
    }
   },
   "outputs": [
    {
     "data": {
      "text/plain": [
       "376"
      ]
     },
     "execution_count": 34,
     "metadata": {},
     "output_type": "execute_result"
    }
   ],
   "source": [
    "max(count)"
   ]
  },
  {
   "cell_type": "code",
   "execution_count": 35,
   "metadata": {
    "ExecuteTime": {
     "end_time": "2019-04-15T02:36:09.645180Z",
     "start_time": "2019-04-15T02:36:09.477093Z"
    }
   },
   "outputs": [
    {
     "data": {
      "text/plain": [
       "154"
      ]
     },
     "execution_count": 35,
     "metadata": {},
     "output_type": "execute_result"
    }
   ],
   "source": [
    "count.index(min(count))"
   ]
  },
  {
   "cell_type": "markdown",
   "metadata": {},
   "source": [
    "# 算法实现——手工版"
   ]
  },
  {
   "cell_type": "markdown",
   "metadata": {},
   "source": [
    "## 挖掘频繁项集"
   ]
  },
  {
   "cell_type": "markdown",
   "metadata": {},
   "source": [
    "生成1-项集："
   ]
  },
  {
   "cell_type": "code",
   "execution_count": 36,
   "metadata": {
    "ExecuteTime": {
     "end_time": "2019-04-15T02:36:09.785774Z",
     "start_time": "2019-04-15T02:36:09.645180Z"
    }
   },
   "outputs": [],
   "source": [
    "def gen_freq_1_itemsets_candidates(trans_list):\n",
    "    C1 = []\n",
    "    for tran in trans_list:\n",
    "        for item in tran:\n",
    "            if not [item] in C1:\n",
    "                C1.append([item])\n",
    "    C1.sort()\n",
    "    return list(map(frozenset, C1))"
   ]
  },
  {
   "cell_type": "markdown",
   "metadata": {},
   "source": [
    "扫描事务数据库，从频繁k-项集候选中得出频繁k-项集，并得到相应的支持度："
   ]
  },
  {
   "cell_type": "code",
   "execution_count": 37,
   "metadata": {
    "ExecuteTime": {
     "end_time": "2019-04-15T02:36:09.923604Z",
     "start_time": "2019-04-15T02:36:09.793139Z"
    }
   },
   "outputs": [],
   "source": [
    "def scan_trans_db(trans_db, Ck, min_support):\n",
    "    support_counts = {}\n",
    "    for tran in trans_db:\n",
    "        for candidate in Ck:\n",
    "            if candidate.issubset(tran):\n",
    "                if candidate not in support_counts.keys():\n",
    "                    support_counts[candidate] = 1\n",
    "                else:\n",
    "                    support_counts[candidate] += 1\n",
    "    num_trans = float(len(list(trans_db)))\n",
    "    freq_k_itemsets = []\n",
    "    support_counts2db = {}\n",
    "    for key in support_counts:\n",
    "        support = support_counts[key] / num_trans\n",
    "        if support >= min_support:\n",
    "            freq_k_itemsets.insert(0, key)\n",
    "            support_counts2db[key] = support\n",
    "    return freq_k_itemsets, support_counts2db"
   ]
  },
  {
   "cell_type": "markdown",
   "metadata": {},
   "source": [
    "由频繁的k-1项集，生成频繁的k项集候选："
   ]
  },
  {
   "cell_type": "code",
   "execution_count": 38,
   "metadata": {
    "ExecuteTime": {
     "end_time": "2019-04-15T02:36:10.064152Z",
     "start_time": "2019-04-15T02:36:09.923604Z"
    }
   },
   "outputs": [],
   "source": [
    "def gen_freq_k_candidates(freq_k_1_itemsets, k):\n",
    "    candidates = []\n",
    "    len_freq_k_1_itemsets = len(freq_k_1_itemsets)\n",
    "    for i in range(len_freq_k_1_itemsets):\n",
    "        for j in range(i+1, len_freq_k_1_itemsets):\n",
    "            freq_k_1_a = list(freq_k_1_itemsets[i])[:(k-2)]\n",
    "            freq_k_1_b = list(freq_k_1_itemsets[j])[:(k-2)]\n",
    "            freq_k_1_a.sort()\n",
    "            freq_k_1_b.sort()\n",
    "            if freq_k_1_a == freq_k_1_b:\n",
    "                candidates.append(freq_k_1_itemsets[i]|freq_k_1_itemsets[j])\n",
    "    return candidates"
   ]
  },
  {
   "cell_type": "markdown",
   "metadata": {},
   "source": [
    "挖掘频繁项集："
   ]
  },
  {
   "cell_type": "code",
   "execution_count": 39,
   "metadata": {
    "ExecuteTime": {
     "end_time": "2019-04-15T02:36:10.220474Z",
     "start_time": "2019-04-15T02:36:10.064152Z"
    }
   },
   "outputs": [],
   "source": [
    "def apriori(trans_list, min_support = 0.25):\n",
    "    C1 = gen_freq_1_itemsets_candidates(trans_list)\n",
    "    trans_db = list(map(set, trans_list))\n",
    "    freq_1_itemsets, support_db = scan_trans_db(trans_db, C1, min_support)\n",
    "    freq_itemsets = [freq_1_itemsets]\n",
    "    k = 2\n",
    "    while (len(freq_itemsets[k - 2]) > 0):\n",
    "        print(\"generating frequent {}-itemsets...\".format(k))\n",
    "        sys.stdout.flush()\n",
    "        Ck = gen_freq_k_candidates(freq_itemsets[k-2], k)\n",
    "        freq_k_itemsets, freq_k_itemsets_supports = scan_trans_db(trans_db, Ck, min_support)\n",
    "        support_db.update(freq_k_itemsets_supports)\n",
    "        freq_itemsets.append(freq_k_itemsets)\n",
    "        k += 1\n",
    "    return freq_itemsets, support_db"
   ]
  },
  {
   "cell_type": "code",
   "execution_count": 40,
   "metadata": {
    "ExecuteTime": {
     "end_time": "2019-04-15T02:36:28.818484Z",
     "start_time": "2019-04-15T02:36:10.220474Z"
    }
   },
   "outputs": [
    {
     "name": "stdout",
     "output_type": "stream",
     "text": [
      "generating frequent 2-itemsets...\n",
      "generating frequent 3-itemsets...\n",
      "generating frequent 4-itemsets...\n",
      "generating frequent 5-itemsets...\n",
      "generating frequent 6-itemsets...\n",
      "generating frequent 7-itemsets...\n",
      "generating frequent 8-itemsets...\n"
     ]
    }
   ],
   "source": [
    "trans_list_manual = favorable_reviews_by_users_list.copy()\n",
    "resulted_freq_itemsets, resulted_support_db = apriori(trans_list_manual, 50 / len(trans_list_manual))"
   ]
  },
  {
   "cell_type": "markdown",
   "metadata": {},
   "source": [
    "对照一下前边的伪代码，以及这里的python实现，相信大家对python作为<font color='blue'>**“可执行的伪代码”**</font>会有进一步的体会。"
   ]
  },
  {
   "cell_type": "markdown",
   "metadata": {},
   "source": [
    "## 抽取关联规则"
   ]
  },
  {
   "cell_type": "code",
   "execution_count": 41,
   "metadata": {
    "ExecuteTime": {
     "end_time": "2019-04-15T02:36:28.847339Z",
     "start_time": "2019-04-15T02:36:28.821620Z"
    }
   },
   "outputs": [],
   "source": [
    "#from pdb import set_trace\n",
    "def calculate_confidence(freq_itemset, RHS, support_db, rules_list, min_confidence):\n",
    "    pruned_rhs = []\n",
    "    for rhs in RHS:\n",
    "        conf = support_db[freq_itemset] / support_db[freq_itemset - rhs]\n",
    "        support = support_db[freq_itemset]\n",
    "        #set_trace()\n",
    "        if conf >= min_confidence:\n",
    "            #print(freq_itemset-rhs, \"-->\", rhs)\n",
    "            #print(support_db[freq_itemset])\n",
    "            rules_list.append((freq_itemset-rhs, rhs, support, conf))\n",
    "            pruned_rhs.append(rhs)\n",
    "    return pruned_rhs"
   ]
  },
  {
   "cell_type": "code",
   "execution_count": 42,
   "metadata": {
    "ExecuteTime": {
     "end_time": "2019-04-15T02:36:29.020973Z",
     "start_time": "2019-04-15T02:36:28.847339Z"
    }
   },
   "outputs": [],
   "source": [
    "def rules_frm_consequence(freq_itemset, RHS, support_db, rules_list, min_confidence):\n",
    "    m = len(RHS[0])\n",
    "    #set_trace()\n",
    "    if (len(freq_itemset) > m + 1):\n",
    "        Hmp1 = gen_freq_k_candidates(RHS, m + 1)\n",
    "        Hmp1 = calculate_confidence(freq_itemset, Hmp1, support_db, rules_list, min_confidence)\n",
    "        if(len(Hmp1) > 1):\n",
    "            rules_frm_consequence(freq_itemset, Hmp1, support_db, rules_list, min_confidence)"
   ]
  },
  {
   "cell_type": "code",
   "execution_count": 43,
   "metadata": {
    "ExecuteTime": {
     "end_time": "2019-04-15T02:36:29.157985Z",
     "start_time": "2019-04-15T02:36:29.020973Z"
    }
   },
   "outputs": [],
   "source": [
    "def generate_rules(freq_itemsets, support_db, min_confidence = 0.75):\n",
    "    rules_list = []\n",
    "    for i in range(1, len(freq_itemsets)):\n",
    "        for cur_freq_itemset in freq_itemsets[i]:\n",
    "            RHS = [frozenset([item]) for item in cur_freq_itemset]\n",
    "            if(i > 1):\n",
    "                rules_frm_consequence(cur_freq_itemset,\n",
    "                                     RHS,\n",
    "                                     support_db,\n",
    "                                     rules_list,\n",
    "                                     min_confidence)\n",
    "            else:\n",
    "                calculate_confidence(cur_freq_itemset,\n",
    "                                    RHS,\n",
    "                                    support_db,\n",
    "                                    rules_list,\n",
    "                                    min_confidence)\n",
    "    return rules_list"
   ]
  },
  {
   "cell_type": "code",
   "execution_count": 44,
   "metadata": {
    "ExecuteTime": {
     "end_time": "2019-04-15T02:36:30.258631Z",
     "start_time": "2019-04-15T02:36:29.157985Z"
    }
   },
   "outputs": [
    {
     "ename": "KeyError",
     "evalue": "frozenset({'Back to the Future (1985)', 'Star Wars (1977)', 'E.T. the Extra-Terrestrial (1982)', 'Return of the Jedi (1983)'})",
     "output_type": "error",
     "traceback": [
      "\u001b[1;31m---------------------------------------------------------------------------\u001b[0m",
      "\u001b[1;31mKeyError\u001b[0m                                  Traceback (most recent call last)",
      "\u001b[1;32m<ipython-input-44-a496779d7002>\u001b[0m in \u001b[0;36m<module>\u001b[1;34m\u001b[0m\n\u001b[1;32m----> 1\u001b[1;33m \u001b[0mrules_manual\u001b[0m \u001b[1;33m=\u001b[0m \u001b[0mgenerate_rules\u001b[0m\u001b[1;33m(\u001b[0m\u001b[0mresulted_freq_itemsets\u001b[0m\u001b[1;33m,\u001b[0m \u001b[0mresulted_support_db\u001b[0m\u001b[1;33m,\u001b[0m \u001b[0mmin_confidence\u001b[0m \u001b[1;33m=\u001b[0m \u001b[1;36m0.75\u001b[0m\u001b[1;33m)\u001b[0m\u001b[1;33m\u001b[0m\u001b[1;33m\u001b[0m\u001b[0m\n\u001b[0m",
      "\u001b[1;32m<ipython-input-43-f69428cec4d4>\u001b[0m in \u001b[0;36mgenerate_rules\u001b[1;34m(freq_itemsets, support_db, min_confidence)\u001b[0m\n\u001b[0;32m      9\u001b[0m                                      \u001b[0msupport_db\u001b[0m\u001b[1;33m,\u001b[0m\u001b[1;33m\u001b[0m\u001b[1;33m\u001b[0m\u001b[0m\n\u001b[0;32m     10\u001b[0m                                      \u001b[0mrules_list\u001b[0m\u001b[1;33m,\u001b[0m\u001b[1;33m\u001b[0m\u001b[1;33m\u001b[0m\u001b[0m\n\u001b[1;32m---> 11\u001b[1;33m                                      min_confidence)\n\u001b[0m\u001b[0;32m     12\u001b[0m             \u001b[1;32melse\u001b[0m\u001b[1;33m:\u001b[0m\u001b[1;33m\u001b[0m\u001b[1;33m\u001b[0m\u001b[0m\n\u001b[0;32m     13\u001b[0m                 calculate_confidence(cur_freq_itemset,\n",
      "\u001b[1;32m<ipython-input-42-4397f2ae1fdc>\u001b[0m in \u001b[0;36mrules_frm_consequence\u001b[1;34m(freq_itemset, RHS, support_db, rules_list, min_confidence)\u001b[0m\n\u001b[0;32m      4\u001b[0m     \u001b[1;32mif\u001b[0m \u001b[1;33m(\u001b[0m\u001b[0mlen\u001b[0m\u001b[1;33m(\u001b[0m\u001b[0mfreq_itemset\u001b[0m\u001b[1;33m)\u001b[0m \u001b[1;33m>\u001b[0m \u001b[0mm\u001b[0m \u001b[1;33m+\u001b[0m \u001b[1;36m1\u001b[0m\u001b[1;33m)\u001b[0m\u001b[1;33m:\u001b[0m\u001b[1;33m\u001b[0m\u001b[1;33m\u001b[0m\u001b[0m\n\u001b[0;32m      5\u001b[0m         \u001b[0mHmp1\u001b[0m \u001b[1;33m=\u001b[0m \u001b[0mgen_freq_k_candidates\u001b[0m\u001b[1;33m(\u001b[0m\u001b[0mRHS\u001b[0m\u001b[1;33m,\u001b[0m \u001b[0mm\u001b[0m \u001b[1;33m+\u001b[0m \u001b[1;36m1\u001b[0m\u001b[1;33m)\u001b[0m\u001b[1;33m\u001b[0m\u001b[1;33m\u001b[0m\u001b[0m\n\u001b[1;32m----> 6\u001b[1;33m         \u001b[0mHmp1\u001b[0m \u001b[1;33m=\u001b[0m \u001b[0mcalculate_confidence\u001b[0m\u001b[1;33m(\u001b[0m\u001b[0mfreq_itemset\u001b[0m\u001b[1;33m,\u001b[0m \u001b[0mHmp1\u001b[0m\u001b[1;33m,\u001b[0m \u001b[0msupport_db\u001b[0m\u001b[1;33m,\u001b[0m \u001b[0mrules_list\u001b[0m\u001b[1;33m,\u001b[0m \u001b[0mmin_confidence\u001b[0m\u001b[1;33m)\u001b[0m\u001b[1;33m\u001b[0m\u001b[1;33m\u001b[0m\u001b[0m\n\u001b[0m\u001b[0;32m      7\u001b[0m         \u001b[1;32mif\u001b[0m\u001b[1;33m(\u001b[0m\u001b[0mlen\u001b[0m\u001b[1;33m(\u001b[0m\u001b[0mHmp1\u001b[0m\u001b[1;33m)\u001b[0m \u001b[1;33m>\u001b[0m \u001b[1;36m1\u001b[0m\u001b[1;33m)\u001b[0m\u001b[1;33m:\u001b[0m\u001b[1;33m\u001b[0m\u001b[1;33m\u001b[0m\u001b[0m\n\u001b[0;32m      8\u001b[0m             \u001b[0mrules_frm_consequence\u001b[0m\u001b[1;33m(\u001b[0m\u001b[0mfreq_itemset\u001b[0m\u001b[1;33m,\u001b[0m \u001b[0mHmp1\u001b[0m\u001b[1;33m,\u001b[0m \u001b[0msupport_db\u001b[0m\u001b[1;33m,\u001b[0m \u001b[0mrules_list\u001b[0m\u001b[1;33m,\u001b[0m \u001b[0mmin_confidence\u001b[0m\u001b[1;33m)\u001b[0m\u001b[1;33m\u001b[0m\u001b[1;33m\u001b[0m\u001b[0m\n",
      "\u001b[1;32m<ipython-input-41-0639b86b77b0>\u001b[0m in \u001b[0;36mcalculate_confidence\u001b[1;34m(freq_itemset, RHS, support_db, rules_list, min_confidence)\u001b[0m\n\u001b[0;32m      3\u001b[0m     \u001b[0mpruned_rhs\u001b[0m \u001b[1;33m=\u001b[0m \u001b[1;33m[\u001b[0m\u001b[1;33m]\u001b[0m\u001b[1;33m\u001b[0m\u001b[1;33m\u001b[0m\u001b[0m\n\u001b[0;32m      4\u001b[0m     \u001b[1;32mfor\u001b[0m \u001b[0mrhs\u001b[0m \u001b[1;32min\u001b[0m \u001b[0mRHS\u001b[0m\u001b[1;33m:\u001b[0m\u001b[1;33m\u001b[0m\u001b[1;33m\u001b[0m\u001b[0m\n\u001b[1;32m----> 5\u001b[1;33m         \u001b[0mconf\u001b[0m \u001b[1;33m=\u001b[0m \u001b[0msupport_db\u001b[0m\u001b[1;33m[\u001b[0m\u001b[0mfreq_itemset\u001b[0m\u001b[1;33m]\u001b[0m \u001b[1;33m/\u001b[0m \u001b[0msupport_db\u001b[0m\u001b[1;33m[\u001b[0m\u001b[0mfreq_itemset\u001b[0m \u001b[1;33m-\u001b[0m \u001b[0mrhs\u001b[0m\u001b[1;33m]\u001b[0m\u001b[1;33m\u001b[0m\u001b[1;33m\u001b[0m\u001b[0m\n\u001b[0m\u001b[0;32m      6\u001b[0m         \u001b[0msupport\u001b[0m \u001b[1;33m=\u001b[0m \u001b[0msupport_db\u001b[0m\u001b[1;33m[\u001b[0m\u001b[0mfreq_itemset\u001b[0m\u001b[1;33m]\u001b[0m\u001b[1;33m\u001b[0m\u001b[1;33m\u001b[0m\u001b[0m\n\u001b[0;32m      7\u001b[0m         \u001b[1;31m#set_trace()\u001b[0m\u001b[1;33m\u001b[0m\u001b[1;33m\u001b[0m\u001b[1;33m\u001b[0m\u001b[0m\n",
      "\u001b[1;31mKeyError\u001b[0m: frozenset({'Back to the Future (1985)', 'Star Wars (1977)', 'E.T. the Extra-Terrestrial (1982)', 'Return of the Jedi (1983)'})"
     ]
    }
   ],
   "source": [
    "rules_manual = generate_rules(resulted_freq_itemsets, resulted_support_db, min_confidence = 0.75)"
   ]
  },
  {
   "cell_type": "code",
   "execution_count": null,
   "metadata": {
    "ExecuteTime": {
     "end_time": "2019-04-15T02:36:30.274256Z",
     "start_time": "2019-04-15T02:36:30.258631Z"
    },
    "scrolled": true
   },
   "outputs": [],
   "source": [
    "resulted_freq_itemsets[0]"
   ]
  },
  {
   "cell_type": "code",
   "execution_count": null,
   "metadata": {
    "ExecuteTime": {
     "end_time": "2019-04-15T02:36:30.461744Z",
     "start_time": "2019-04-15T02:36:30.274256Z"
    }
   },
   "outputs": [],
   "source": [
    "resulted_freq_itemsets[1]"
   ]
  },
  {
   "cell_type": "code",
   "execution_count": null,
   "metadata": {
    "ExecuteTime": {
     "end_time": "2019-04-15T02:36:30.696107Z",
     "start_time": "2019-04-15T02:36:30.461744Z"
    }
   },
   "outputs": [],
   "source": [
    "rules_manual"
   ]
  },
  {
   "cell_type": "code",
   "execution_count": null,
   "metadata": {
    "ExecuteTime": {
     "end_time": "2019-04-15T02:36:30.821094Z",
     "start_time": "2019-04-15T02:36:30.696107Z"
    }
   },
   "outputs": [],
   "source": [
    "pd.DataFrame(rules_manual, columns=['lhs', 'rhs','support', 'confidence'])"
   ]
  },
  {
   "cell_type": "markdown",
   "metadata": {},
   "source": [
    "# 算法实现——mlxtend版"
   ]
  },
  {
   "cell_type": "markdown",
   "metadata": {},
   "source": [
    "## mlxtend简介"
   ]
  },
  {
   "cell_type": "markdown",
   "metadata": {},
   "source": [
    "虽然本实验课程，大量使用的是sklearn作为建模工具，在具体开展试验过程中，我们也推荐一些机器学习常用的包，比如mlxtend、orange等，都是对sklearn非常好的补充：<br>\n",
    "![img](figtabs/ch5/mlxtend.png)\n",
    "- **classifier**\n",
    "  + Adaline\n",
    "  + EnsembleVoteClassifier\n",
    "  + LogisticRegression\n",
    "  + MultiLayerPerceptron\n",
    "  + Perceptron\n",
    "  + SoftmaxRegression\n",
    "  + StackingClassifier\n",
    "  + StackingCVClassifier\n",
    "- **frequent_patterns**\n",
    "  + apriori\n",
    "  + association_rules\n",
    "- **plotting**\n",
    "  + category_scatter\n",
    "  + checkerboard_plot\n",
    "  + ecdf\n",
    "  + enrichment_plot\n",
    "  + plot_confusion_matrix\n",
    "  + plot_decision_regions\n",
    "  + plot_learning_curves\n",
    "  + plot_linear_regression\n",
    "  + plot_sequential_feature_selection\n",
    "  + scatterplotmatrix\n",
    "  + stacked_barplot  "
   ]
  },
  {
   "cell_type": "markdown",
   "metadata": {},
   "source": [
    "关于mlxtend更详细的信息，可参阅：<http://rasbt.github.io/mlxtend/>"
   ]
  },
  {
   "cell_type": "markdown",
   "metadata": {},
   "source": [
    "## 挖掘频繁项集"
   ]
  },
  {
   "cell_type": "markdown",
   "metadata": {},
   "source": [
    "先来看一下mlxtend中频繁项集的挖掘："
   ]
  },
  {
   "cell_type": "markdown",
   "metadata": {},
   "source": [
    "**apriori** <br>\n",
    "apriori(df, min_support=0.5, use_colnames=False, max_len=None, n_jobs=1)<br>\n",
    "Get frequent itemsets from a <font color='green'>**one-hot DataFrame**</font> Parameters\n",
    "* df : pandas DataFrame or pandas SparseDataFrame  \n",
    "  pandas DataFrame the encoded format. The allowed values are either 0/1 or True/False.\n",
    "* min_support : float (default: 0.5)  \n",
    "  A float between 0 and 1 for minumum support of the itemsets returned. The support is computed as the fraction transactions_where_item(s)_occur / total_transactions.\n",
    "* use_colnames : bool (default: False)  \n",
    "  If true, uses the DataFrames' column names in the returned DataFrame instead of column indices.\n",
    "* max_len : int (default: None)  \n",
    "  Maximum length of the itemsets generated. If None (default) all possible itemsets lengths (under the apriori condition) are evaluated.  \n",
    "\n",
    "**Returns**  \n",
    "pandas DataFrame with columns ['support', 'itemsets'] of all itemsets that are >= min_support and < than max_len (if max_len is not None). Each itemset in the 'itemsets' column is of type frozenset, which is a Python built-in type that behaves similarly to sets except that it is immutable."
   ]
  },
  {
   "cell_type": "markdown",
   "metadata": {},
   "source": [
    "apriori所接收的参数形式比较单一，一般是独热码的形式："
   ]
  },
  {
   "cell_type": "markdown",
   "metadata": {
    "ExecuteTime": {
     "end_time": "2019-03-08T00:59:47.637515Z",
     "start_time": "2019-03-08T00:59:47.627524Z"
    }
   },
   "source": [
    "| Transactions | item1 | item2 | item3 | item4 |\n",
    "| :------ | :------: | :------: | :------: | :------: |\n",
    "| transaction1 | 1 | 1 | 0 | 1 |\n",
    "| transaction2 | 0 | 1 | 1 | 1 |\n",
    "| transaction3 | 1 | 0 | 0 | 0 |\n",
    "| transaction4 | 0 | 1 | 0 | 0 |\n",
    "| transaction5 | 0 | 0 | 1 | 0 |\n",
    "| transaction6 | 1 | 0 | 1 | 1 |"
   ]
  },
  {
   "cell_type": "markdown",
   "metadata": {},
   "source": [
    "如果数据本身不是上述形式，可以先通过pd.get_dummies或是sklearn.preprocessing中的OneHotEncoder来进行处理。如果原始数据本身就是列表的方式存储（像咱们这个实验中的情况），可以采用以下方法进行转换："
   ]
  },
  {
   "cell_type": "code",
   "execution_count": null,
   "metadata": {
    "ExecuteTime": {
     "end_time": "2019-04-15T02:36:36.853725Z",
     "start_time": "2019-04-15T02:36:30.821094Z"
    }
   },
   "outputs": [],
   "source": [
    "from mlxtend.preprocessing import TransactionEncoder\n",
    "tran_encoder = TransactionEncoder()"
   ]
  },
  {
   "cell_type": "code",
   "execution_count": null,
   "metadata": {
    "ExecuteTime": {
     "end_time": "2019-04-15T02:36:36.884847Z",
     "start_time": "2019-04-15T02:36:36.853725Z"
    }
   },
   "outputs": [],
   "source": [
    "trans_list = [list(value) for key, value in favorable_reviews_by_users.items()]"
   ]
  },
  {
   "cell_type": "code",
   "execution_count": null,
   "metadata": {
    "ExecuteTime": {
     "end_time": "2019-04-15T02:36:37.069234Z",
     "start_time": "2019-04-15T02:36:36.884847Z"
    }
   },
   "outputs": [],
   "source": [
    "tran_encoder = tran_encoder.fit(trans_list)\n",
    "trans_ary = tran_encoder.transform(trans_list)\n",
    "trans_ary"
   ]
  },
  {
   "cell_type": "code",
   "execution_count": null,
   "metadata": {
    "ExecuteTime": {
     "end_time": "2019-04-15T02:36:37.190890Z",
     "start_time": "2019-04-15T02:36:37.072946Z"
    }
   },
   "outputs": [],
   "source": [
    "trans_df = pd.DataFrame(trans_ary, columns=tran_encoder.columns_)"
   ]
  },
  {
   "cell_type": "code",
   "execution_count": null,
   "metadata": {
    "ExecuteTime": {
     "end_time": "2019-04-15T02:36:37.393919Z",
     "start_time": "2019-04-15T02:36:37.190890Z"
    }
   },
   "outputs": [],
   "source": [
    "trans_df.head()"
   ]
  },
  {
   "cell_type": "markdown",
   "metadata": {},
   "source": [
    "挖掘频繁项集："
   ]
  },
  {
   "cell_type": "code",
   "execution_count": null,
   "metadata": {
    "ExecuteTime": {
     "end_time": "2019-04-15T02:36:43.329982Z",
     "start_time": "2019-04-15T02:36:37.393919Z"
    }
   },
   "outputs": [],
   "source": [
    "from mlxtend.frequent_patterns import apriori\n",
    "apriori(trans_df, min_support= 50 / trans_df.shape[0])"
   ]
  },
  {
   "cell_type": "markdown",
   "metadata": {},
   "source": [
    "默认情况下只是下标而已，如果要显示项本身，需要设置其中的参数use_colnames=True"
   ]
  },
  {
   "cell_type": "code",
   "execution_count": null,
   "metadata": {
    "ExecuteTime": {
     "end_time": "2019-04-15T02:36:49.201005Z",
     "start_time": "2019-04-15T02:36:43.329982Z"
    }
   },
   "outputs": [],
   "source": [
    "apriori(trans_df, min_support= 50 / trans_df.shape[0] , use_colnames=True)"
   ]
  },
  {
   "cell_type": "code",
   "execution_count": null,
   "metadata": {
    "ExecuteTime": {
     "end_time": "2019-04-15T02:36:54.941397Z",
     "start_time": "2019-04-15T02:36:49.201005Z"
    }
   },
   "outputs": [],
   "source": [
    "frequent_itemsets = apriori(trans_df, min_support=50 / trans_df.shape[0], use_colnames=True)\n",
    "type(frequent_itemsets)"
   ]
  },
  {
   "cell_type": "markdown",
   "metadata": {},
   "source": [
    "显然，返回的结果还是我们亲切的数据对象DataFrame。我们可以很方便的对这个结果进行进一步加工："
   ]
  },
  {
   "cell_type": "code",
   "execution_count": null,
   "metadata": {
    "ExecuteTime": {
     "end_time": "2019-04-15T02:36:55.035131Z",
     "start_time": "2019-04-15T02:36:54.941397Z"
    }
   },
   "outputs": [],
   "source": [
    "frequent_itemsets['length'] = frequent_itemsets['itemsets'].apply(lambda x: len(x))\n",
    "frequent_itemsets"
   ]
  },
  {
   "cell_type": "markdown",
   "metadata": {},
   "source": [
    "再比如，我们设置一些条件，对想要的频繁项集进行过滤："
   ]
  },
  {
   "cell_type": "code",
   "execution_count": null,
   "metadata": {
    "ExecuteTime": {
     "end_time": "2019-04-15T02:36:55.128886Z",
     "start_time": "2019-04-15T02:36:55.035131Z"
    }
   },
   "outputs": [],
   "source": [
    "frequent_itemsets[ (frequent_itemsets['length'] == 2) &\n",
    "                   (frequent_itemsets['support'] >= 0.3) ]"
   ]
  },
  {
   "cell_type": "markdown",
   "metadata": {},
   "source": [
    "再比如："
   ]
  },
  {
   "cell_type": "code",
   "execution_count": null,
   "metadata": {
    "ExecuteTime": {
     "end_time": "2019-04-15T02:36:55.297779Z",
     "start_time": "2019-04-15T02:36:55.128886Z"
    }
   },
   "outputs": [],
   "source": [
    "frequent_itemsets[ frequent_itemsets['itemsets'] == {'Onion', 'Eggs'} ]"
   ]
  },
  {
   "cell_type": "markdown",
   "metadata": {},
   "source": [
    "注意项集采用的是**Frozensets**。与一般的集合相比，更加高效，并且也可以作为字典的key。"
   ]
  },
  {
   "cell_type": "code",
   "execution_count": null,
   "metadata": {
    "ExecuteTime": {
     "end_time": "2019-04-15T02:36:55.438258Z",
     "start_time": "2019-04-15T02:36:55.297779Z"
    }
   },
   "outputs": [],
   "source": [
    "frequent_itemsets[ frequent_itemsets['itemsets'] == {'Star Wars (1977)', 'Return of the Jedi (1983)'} ]"
   ]
  },
  {
   "cell_type": "markdown",
   "metadata": {},
   "source": [
    "上述语句等价于："
   ]
  },
  {
   "cell_type": "code",
   "execution_count": null,
   "metadata": {
    "ExecuteTime": {
     "end_time": "2019-04-15T02:36:55.563249Z",
     "start_time": "2019-04-15T02:36:55.438258Z"
    }
   },
   "outputs": [],
   "source": [
    "frequent_itemsets[ frequent_itemsets['itemsets'] == {'Star Wars (1977)', 'Return of the Jedi (1983)'}  ]\n",
    "frequent_itemsets[ frequent_itemsets['itemsets'] == frozenset(('Star Wars (1977)', 'Return of the Jedi (1983)')) ]\n",
    "frequent_itemsets[ frequent_itemsets['itemsets'] == frozenset(('Return of the Jedi (1983)', 'Star Wars (1977)')) ]"
   ]
  },
  {
   "cell_type": "markdown",
   "metadata": {},
   "source": [
    "## 抽取关联规则"
   ]
  },
  {
   "cell_type": "markdown",
   "metadata": {},
   "source": [
    "先看一下mlxtend中用于抽取关联规则的方法："
   ]
  },
  {
   "cell_type": "markdown",
   "metadata": {},
   "source": [
    "*association_rules(df, metric='confidence', min_threshold=0.8, support_only=False)*<br>\n",
    "\n",
    "Generates a DataFrame of association rules including the metrics 'score', 'confidence', and 'lift'<br>\n",
    "\n",
    "**Parameters**\n",
    "\n",
    "* df : pandas DataFrame\n",
    "\n",
    "  pandas DataFrame of frequent itemsets with columns ['support', 'itemsets']\n",
    "\n",
    "* metric : string (default: 'confidence')\n",
    "\n",
    "  Metric to evaluate if a rule is of interest. Automatically set to 'support' if support_only=True. Otherwise, supported metrics are 'support', 'confidence', 'lift', 'leverage', and 'conviction' \n",
    "* min_threshold : float (default: 0.8)\n",
    "\n",
    "  Minimal threshold for the evaluation metric, via the metric parameter, to decide whether a candidate rule is of interest.\n",
    "\n",
    "* support_only : bool (default: False)\n",
    "\n",
    "  Only computes the rule support and fills the other metric columns with NaNs. This is useful if:\n",
    "\n",
    "  a) the input DataFrame is incomplete, e.g., does not contain support values for all rule antecedents and consequents\n",
    "\n",
    "  b) you simply want to speed up the computation because you don't need the other metrics.<br>\n",
    "  \n",
    "\n",
    "**Returns**\n",
    "\n",
    "pandas DataFrame with columns \"antecedents\" and \"consequents\" that store itemsets, plus the scoring metric columns: \"antecedent support\", \"consequent support\", \"support\", \"confidence\", \"lift\", \"leverage\", \"conviction\" of all rules for which metric(rule) >= min_threshold. Each entry in the \"antecedents\" and \"consequents\" columns are of type frozenset, which is a Python built-in type that behaves similarly to sets except that it is immutable."
   ]
  },
  {
   "cell_type": "code",
   "execution_count": null,
   "metadata": {
    "ExecuteTime": {
     "end_time": "2019-04-15T02:36:56.213592Z",
     "start_time": "2019-04-15T02:36:55.563249Z"
    }
   },
   "outputs": [],
   "source": [
    "from mlxtend.frequent_patterns import association_rules"
   ]
  },
  {
   "cell_type": "code",
   "execution_count": null,
   "metadata": {
    "ExecuteTime": {
     "end_time": "2019-04-15T02:36:56.213592Z",
     "start_time": "2019-04-15T02:36:55.563249Z"
    }
   },
   "outputs": [],
   "source": [
    "association_rules(frequent_itemsets, metric=\"confidence\", min_threshold=0.75)"
   ]
  },
  {
   "cell_type": "markdown",
   "metadata": {},
   "source": [
    "以下是相关指标的定义：\n",
    "\n",
    "> **Leverage** computes the difference between the observed frequency of $A$ and $B$ appearing together and the frequency that would be expected if $A$ and $B$ were independent. An leverage value of 0 indicates independence.<br>\n",
    "> $levarage\\left( {A \\to B} \\right) = support\\left( {A \\to C} \\right) - support\\left( A \\right) \\times support\\left( B \\right)$\n",
    "\n",
    "> A high **conviction** value means that the consequent is highly depending on the antecedent. For instance, in the case of a perfect confidence score, the denominator becomes 0  for which the conviction score is defined as 'inf'. Similar to lift, if items are independent, the conviction is 1.<br>\n",
    "> $conviction\\left( {A \\to B} \\right) = \\frac{{1 - support\\left( B \\right)}}{{1 - confidence\\left( {A \\to B} \\right)}}$\n",
    "\n",
    "> If you are interested in rules according to a different metric of interest, you can simply adjust the metric and min_threshold arguments . E.g. if you are only interested in rules that have a lift score of >= 1.2, you would do the following:"
   ]
  },
  {
   "cell_type": "code",
   "execution_count": null,
   "metadata": {
    "ExecuteTime": {
     "end_time": "2019-04-15T02:36:57.182148Z",
     "start_time": "2019-04-15T02:36:56.213592Z"
    }
   },
   "outputs": [],
   "source": [
    "rules = association_rules(frequent_itemsets, metric=\"lift\", min_threshold=1.2)\n",
    "rules"
   ]
  },
  {
   "cell_type": "markdown",
   "metadata": {},
   "source": [
    "同样，因为是熟悉的DataFrame，我们可以方便的进行进一步加工："
   ]
  },
  {
   "cell_type": "code",
   "execution_count": null,
   "metadata": {
    "ExecuteTime": {
     "end_time": "2019-04-15T02:36:57.366130Z",
     "start_time": "2019-04-15T02:36:57.182148Z"
    }
   },
   "outputs": [],
   "source": [
    "rules[\"antecedent_len\"] = rules[\"antecedents\"].apply(lambda x: len(x))\n",
    "rules"
   ]
  },
  {
   "cell_type": "code",
   "execution_count": null,
   "metadata": {
    "ExecuteTime": {
     "end_time": "2019-04-15T02:36:57.491890Z",
     "start_time": "2019-04-15T02:36:57.366130Z"
    }
   },
   "outputs": [],
   "source": [
    "rules[ (rules['antecedent_len'] >= 1) &\n",
    "       (rules['confidence'] > 0.5) &\n",
    "       (rules['lift'] > 2) ]"
   ]
  },
  {
   "cell_type": "markdown",
   "metadata": {},
   "source": [
    "# 算法实现——借助R来实现"
   ]
  },
  {
   "cell_type": "markdown",
   "metadata": {},
   "source": [
    "R与Python作为数据科学领域的双子星，应该说是各有优势。单就关联规则的挖掘而言，目前R相应的扩展包更加完善，尤其是可视化，比Python更加便捷。以下通过调用R的相关代码，来实现关联规则的挖掘：<br>\n",
    "\n",
    "---\n",
    "\n",
    "> R与Python可以互通有无，通过reticulate，可以将Python嵌入R；通过rpy2，也可以将R嵌入Python。\n",
    "\n",
    "<img src=figtabs/ch4/reticulated_python.png align=left width=20% height=20% />"
   ]
  },
  {
   "cell_type": "markdown",
   "metadata": {},
   "source": [
    "## 准备工作"
   ]
  },
  {
   "cell_type": "markdown",
   "metadata": {},
   "source": [
    "准备工作有以下几项：<br>\n",
    "* 安装好rpy2\n",
    "* 安装好R以及arules、arulesViz包\n",
    "\n",
    "---\n",
    "\n",
    "目前[R language packages for Anaconda](http://docs.anaconda.com/anaconda/packages/r-language-pkg-docs/)有一些常用的包，显然这对于动辄上万的R生态而言，也只是九牛一毛，更多的包需要自行安装。"
   ]
  },
  {
   "cell_type": "markdown",
   "metadata": {},
   "source": [
    "一种方法是利用Anaconda自带的R环境，直接在命令行cmd C:\\Anaconda3\\Lib\\R\\bin，然后进入R环境：\n",
    "<img src=figtabs/ch4/install_arulesViz.png align=center width=50% height=50% />"
   ]
  },
  {
   "cell_type": "markdown",
   "metadata": {},
   "source": [
    "进入R环境之后，执行install.packages(\"arulesViz\", lib=\"C://Anaconda3/Lib/R/library\")，安装arules和arulesViz。<br>\n",
    "<img src=figtabs/ch4/install_arulesViz_step2.png align=center width=50% height=50% />"
   ]
  },
  {
   "cell_type": "markdown",
   "metadata": {},
   "source": [
    "安装完之后可以执行library(arulesViz)，看能否加载成功。有可能会提示缺少某些包，按照提示的包名依次安装，直至能加载成功为止。"
   ]
  },
  {
   "cell_type": "markdown",
   "metadata": {},
   "source": [
    "当然，更好的办法是从[CRAN](https://www.r-project.org/)自行安装R并安装相关的包。虽然Anaconda也提供对于R环境的管理，但是相信大部分有R经验的用户而言，更希望通过[RStudio](https://www.rstudio.com/)等来编写R代码。<br>\n",
    "具体如何安装使用R已超出了本实验的范围，请自行查阅相关资料。关于R数据分析相关的内容，可参见《R语言数据分析》课程的相关资料[Github](https://github.com/byaxb/RDataAnalytics)或[学堂在线](https://next.xuetangx.com/course/buptP08541002314/1462797)"
   ]
  },
  {
   "cell_type": "markdown",
   "metadata": {},
   "source": [
    "要让rpy2自动识别出R所在的位置，需要设置环境变量R_HOME：<br>\n",
    "<img src=figtabs/ch4/r_home_setting.png width=50% height=50% />"
   ]
  },
  {
   "cell_type": "code",
   "execution_count": null,
   "metadata": {
    "ExecuteTime": {
     "end_time": "2019-04-15T02:36:57.707377Z",
     "start_time": "2019-04-15T02:36:57.491890Z"
    }
   },
   "outputs": [],
   "source": [
    "import rpy2\n",
    "rpy2.__path__"
   ]
  },
  {
   "cell_type": "code",
   "execution_count": null,
   "metadata": {
    "ExecuteTime": {
     "end_time": "2019-04-15T02:36:58.888284Z",
     "start_time": "2019-04-15T02:36:57.738599Z"
    }
   },
   "outputs": [],
   "source": [
    "import pandas as pd\n",
    "import rpy2.robjects as robjects\n",
    "r_code=('''\n",
    "    R.version\n",
    "''')\n",
    "r_version = robjects.r(r_code)\n",
    "\n",
    "pd.DataFrame([(name, value[0]) for name, value in zip(r_version.names, list(r_version))])"
   ]
  },
  {
   "cell_type": "code",
   "execution_count": null,
   "metadata": {
    "ExecuteTime": {
     "end_time": "2019-04-15T02:36:58.919532Z",
     "start_time": "2019-04-15T02:36:58.888284Z"
    }
   },
   "outputs": [],
   "source": [
    "import rpy2.robjects as robjects\n",
    "\n",
    "r_code=('''\n",
    "    .libPaths()\n",
    "''')\n",
    "lib_paths = list(robjects.r(r_code))\n",
    "lib_paths"
   ]
  },
  {
   "cell_type": "markdown",
   "metadata": {},
   "source": [
    "## 抽取关联规则并可视化"
   ]
  },
  {
   "cell_type": "code",
   "execution_count": null,
   "metadata": {
    "ExecuteTime": {
     "end_time": "2019-04-15T02:37:10.873002Z",
     "start_time": "2019-04-15T02:36:58.919532Z"
    }
   },
   "outputs": [],
   "source": [
    "import rpy2.robjects as robjects\n",
    "\n",
    "r_code=('''\n",
    "\n",
    "library(tidyverse)\n",
    "#设定工作路径\n",
    "\n",
    "#################################\n",
    "#注意此路径需要根据实际情况做调整\n",
    "#################################\n",
    "\n",
    "setwd(\"D://wd/Python/T01_edu/Y02_DataMiningExperimentsV8\")\n",
    "data_folder <- \"datasets/ml-100k\"\n",
    "result_folder <- \"tmp_results\"\n",
    "ratings_filename = file.path(data_folder, \"u.data\")\n",
    "movie_info_filename = file.path(data_folder, \"u.item\")\n",
    "\n",
    "#读取评分信息数据\n",
    "rating_columns <- c(\"UserID\", \"MovieID\", \"Rating\", \"Datetime\")\n",
    "all_ratings <- read_delim(ratings_filename,\n",
    "                       delim = '\\t',\n",
    "                       col_names = rating_columns)\n",
    "all_ratings$Favorable = all_ratings$Rating > 3\n",
    "ratings = all_ratings %>%\n",
    "    filter(UserID <= 500)\n",
    "\n",
    "#读取电影本身信息\n",
    "moive_info_columns = c(\"MovieID\", \"Title\", 'release_date', 'video_release_date',\n",
    "                      'IMDb_URL', 'unknown', 'Action', 'Adventure', 'Animation',\n",
    "                      'Childrens', 'Comedy', 'Crime', 'Documentary', 'Drama', 'Fantasy',\n",
    "                      'Film_Noir', 'Horror', 'Musical', 'Mystery', 'Romance', 'Sci_Fi',\n",
    "                      'Thriller', 'War', 'Western')\n",
    "movie_info = read_delim(movie_info_filename,\n",
    "                         delim=\"|\",\n",
    "                         col_names = moive_info_columns)\n",
    "\n",
    "#通过连接将编号替换成电影名\n",
    "ratings = merge(ratings[, c('UserID', 'MovieID', 'Rating', 'Favorable')], \n",
    "                movie_info[, c('MovieID', 'Title')],\n",
    "                by.x = \"MovieID\", by.y = \"MovieID\",\n",
    "                all.x = TRUE, all.y = FALSE)\n",
    "                \n",
    "#转换成列表\n",
    "#通过这个例子，可以看出tidyverse这种编码风格的简洁明了之处\n",
    "favorable_movie_list <- ratings %>%\n",
    "    mutate(MovieID = as.character(MovieID)) %>%\n",
    "    filter(Favorable == TRUE) %>%\n",
    "    group_by(UserID) %>%\n",
    "    summarise(favorable_movies = paste(Title, collapse = '\\t')) %>%\n",
    "    select(favorable_movies) %>%\n",
    "    as_vector() %>%\n",
    "    strsplit(split = \"\\t\")\n",
    "favorable_movie_list <- lapply(favorable_movie_list, unique)\n",
    "\n",
    "\n",
    "#加载关联规则挖掘包\n",
    "library(arules)\n",
    "#将列表转换成事务记录\n",
    "favorable_movie_trans <- as(favorable_movie_list, \"transactions\")\n",
    "#挖掘关联规则\n",
    "irules <- apriori(\n",
    "    favorable_movie_trans,\n",
    "    parameter = list(\n",
    "        minlen = 2,\n",
    "        maxlen = 2,\n",
    "        supp = 50 / length(favorable_movie_trans), #最小支持度，减少偶然性\n",
    "        conf = 0.85 #最小置信度，推断能力\n",
    "    ))\n",
    "\n",
    "#对关联规则进行可视化\n",
    "library(arulesViz)\n",
    "png(file.path(result_folder, \"arules_graph.png\"))\n",
    "plot(irules,\n",
    "     method = \"graph\")\n",
    "dev.off()\n",
    "\n",
    "\n",
    "png(file.path(result_folder, \"arules_support_conf_lift.png\"))\n",
    "plot(irules,\n",
    "     method = \"scatterplot\")\n",
    "dev.off()\n",
    "\n",
    "''')\n",
    "\n",
    "#执行以上R代码\n",
    "robjects.r(r_code)"
   ]
  },
  {
   "cell_type": "code",
   "execution_count": 45,
   "metadata": {
    "ExecuteTime": {
     "end_time": "2019-04-15T02:37:10.873002Z",
     "start_time": "2019-04-15T02:36:58.919532Z"
    }
   },
   "outputs": [
    {
     "data": {
      "image/png": "[encoded data removed]",
      "text/plain": [
       "<IPython.core.display.Image object>"
      ]
     },
     "metadata": {},
     "output_type": "display_data"
    },
    {
     "data": {
      "image/png": "[encoded data removed]",
      "text/plain": [
       "<IPython.core.display.Image object>"
      ]
     },
     "metadata": {},
     "output_type": "display_data"
    }
   ],
   "source": [
    "#执行以上语句，在tmp_results文件夹下生成arules_XXXX.png文件，然后再Jupyter中进行显示\n",
    "from IPython.display import display, Image\n",
    "rules_image_path = \"tmp_results/arules_graph.png\"\n",
    "display(Image(filename=rules_image_path))\n",
    "\n",
    "rules_image_path = \"tmp_results/arules_support_conf_lift.png\"\n",
    "display(Image(filename=rules_image_path))"
   ]
  },
  {
   "cell_type": "markdown",
   "metadata": {},
   "source": [
    "# 小结"
   ]
  },
  {
   "cell_type": "markdown",
   "metadata": {},
   "source": [
    "在这个小实验中，只是利用Apriori这个最经典的算法，做了关联规则的一些初步尝试。为了提升效率，也可以尝试一下FP-Growth等方法，既可以自行写算法实现，也可以调用[mlxtend](http://rasbt.github.io/mlxtend)、[Orange-Associate](https://orange3-associate.readthedocs.io/en/latest/scripting.html)、pyspark等。<br>\n",
    "\n",
    "---\n",
    "\n",
    "关于电影推荐，除了关联规则之外，其他的一些经典算法，如协同过滤、基于二部图的推荐算法、基于奇异值分解SVD的推荐算法等，均值得进一步探讨。\n"
   ]
  },
  {
   "cell_type": "markdown",
   "metadata": {},
   "source": [
    "<!--NAVIGATION-->\n",
    "<[数据挖掘常用模块](ch03_数据挖掘常用模块.ipynb)  | [Contents](Index.ipynb) | [学生文理分科](ch05_学生文理分科.ipynb) >"
   ]
  }
 ],
 "metadata": {
  "kernelspec": {
   "display_name": "dme",
   "language": "python",
   "name": "dme"
  },
  "language_info": {
   "codemirror_mode": {
    "name": "ipython",
    "version": 3
   },
   "file_extension": ".py",
   "mimetype": "text/x-python",
   "name": "python",
   "nbconvert_exporter": "python",
   "pygments_lexer": "ipython3",
   "version": "3.7.6"
  },
  "toc": {
   "base_numbering": "4",
   "nav_menu": {
    "height": "344px",
    "width": "278px"
   },
   "number_sections": true,
   "sideBar": true,
   "skip_h1_title": false,
   "title_cell": "本章目录",
   "title_sidebar": "",
   "toc_cell": true,
   "toc_position": {
    "height": "calc(100% - 180px)",
    "left": "10px",
    "top": "150px",
    "width": "204px"
   },
   "toc_section_display": true,
   "toc_window_display": true
  },
  "varInspector": {
   "cols": {
    "lenName": 16,
    "lenType": 16,
    "lenVar": 40
   },
   "kernels_config": {
    "python": {
     "delete_cmd_postfix": "",
     "delete_cmd_prefix": "del ",
     "library": "var_list.py",
     "varRefreshCmd": "print(var_dic_list())"
    },
    "r": {
     "delete_cmd_postfix": ") ",
     "delete_cmd_prefix": "rm(",
     "library": "var_list.r",
     "varRefreshCmd": "cat(var_dic_list()) "
    }
   },
   "types_to_exclude": [
    "module",
    "function",
    "builtin_function_or_method",
    "instance",
    "_Feature"
   ],
   "window_display": false
  }
 },
 "nbformat": 4,
 "nbformat_minor": 4
}
